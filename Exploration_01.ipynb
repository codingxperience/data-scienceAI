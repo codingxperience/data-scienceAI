{
  "cells": [
    {
      "cell_type": "markdown",
      "metadata": {
        "id": "LB9TN5GKEyhw"
      },
      "source": [
        "# Data Exploration 01\n",
        "\n",
        "A consumer watchdog group wants to see if Netflix has more movies for adults or children.\n",
        "\n",
        "Using a dataset containing metadata for all of the movies Netflix had available on their platform in 2019, we'll use the MPAA movie rating system to determine if they are correct.\n",
        "\n",
        "## MPAA Movie Ratings:\n",
        "* G: All ages admitted.\n",
        "* PG: Some material may not be suitable for children.\n",
        "* PG-13: Some material may be inappropriate for children under 13.\n",
        "* R: Under 17 requires accompanying parent or adult guardian\n",
        "* NC-17: No One 17 and Under Admitted\n",
        "\n",
        "Most people would consider G and PG as ratings suitable for children. However, not everyone would agree that a PG-13 movie is necssarily a children's movie. It is up to you to decide how to handle this."
      ]
    },
    {
      "cell_type": "markdown",
      "metadata": {
        "id": "agqlq8RKFbry"
      },
      "source": [
        "## Part 1: Import Pandas\n",
        "\n",
        "The `pandas library` is a python library used for data analysis and manipulation. It will provide the core functionality for most of what you do in the data exploration and preprocessing stages of most machine learning projects.\n",
        "\n",
        "Please see [this Getting Started Guide](https://pandas.pydata.org/docs/getting_started/intro_tutorials/01_table_oriented.html) for information on the conventional way to import Pandas into your project, as well as other helpful tips for common Pandas tasks.\n"
      ]
    },
    {
      "cell_type": "code",
      "execution_count": 1,
      "metadata": {
        "id": "14b9y6LKEvEm"
      },
      "outputs": [],
      "source": [
        "# Part 1: Enter the code below to import Pandas according to the\n",
        "# conventional method.\n",
        "import pandas as pd\n"
      ]
    },
    {
      "cell_type": "markdown",
      "metadata": {
        "id": "q-O80D5JH9yA"
      },
      "source": [
        "## Part 2: Load the data\n",
        "\n",
        "The dataset for this exploration is stored at the following url:\n",
        "\n",
        "[https://raw.githubusercontent.com/byui-cse/cse450-course/master/data/netflix_titles.csv](https://raw.githubusercontent.com/byui-cse/cse450-course/master/data/netflix_titles.csv)\n",
        "\n",
        "There are lots of ways to load data into your workspace. The easiest way in this case is to [ask Pandas to do it for you](https://pandas.pydata.org/docs/getting_started/intro_tutorials/02_read_write.html).\n",
        "\n",
        "### Initial Data Analysis\n",
        "Once you've loaded the data, it's a good idea to poke around a little bit to find out what you're dealing with.\n",
        "\n",
        "Some questions you might ask include:\n",
        "\n",
        "* What does the data look like?\n",
        "* What kind of data is in each column?\n",
        "* Do any of the columns have missing values?"
      ]
    },
    {
      "cell_type": "code",
      "execution_count": 2,
      "metadata": {
        "id": "AMKxXySGJVnC"
      },
      "outputs": [],
      "source": [
        "# Part 2: Load the dataset into a Pandas dataframe.\n",
        "netflix = pd.read_csv('https://raw.githubusercontent.com/byui-cse/cse450-course/master/data/netflix_titles.csv')"
      ]
    },
    {
      "cell_type": "code",
      "execution_count": 3,
      "metadata": {
        "id": "1TFtbTIVAYJ-"
      },
      "outputs": [
        {
          "data": {
            "text/html": [
              "<div>\n",
              "<style scoped>\n",
              "    .dataframe tbody tr th:only-of-type {\n",
              "        vertical-align: middle;\n",
              "    }\n",
              "\n",
              "    .dataframe tbody tr th {\n",
              "        vertical-align: top;\n",
              "    }\n",
              "\n",
              "    .dataframe thead th {\n",
              "        text-align: right;\n",
              "    }\n",
              "</style>\n",
              "<table border=\"1\" class=\"dataframe\">\n",
              "  <thead>\n",
              "    <tr style=\"text-align: right;\">\n",
              "      <th></th>\n",
              "      <th>show_id</th>\n",
              "      <th>type</th>\n",
              "      <th>title</th>\n",
              "      <th>director</th>\n",
              "      <th>cast</th>\n",
              "      <th>country</th>\n",
              "      <th>date_added</th>\n",
              "      <th>release_year</th>\n",
              "      <th>rating</th>\n",
              "      <th>duration</th>\n",
              "      <th>listed_in</th>\n",
              "      <th>description</th>\n",
              "    </tr>\n",
              "  </thead>\n",
              "  <tbody>\n",
              "    <tr>\n",
              "      <th>0</th>\n",
              "      <td>81145628</td>\n",
              "      <td>Movie</td>\n",
              "      <td>Norm of the North: King Sized Adventure</td>\n",
              "      <td>Richard Finn, Tim Maltby</td>\n",
              "      <td>Alan Marriott, Andrew Toth, Brian Dobson, Cole...</td>\n",
              "      <td>United States, India, South Korea, China</td>\n",
              "      <td>September 9, 2019</td>\n",
              "      <td>2019</td>\n",
              "      <td>TV-PG</td>\n",
              "      <td>90 min</td>\n",
              "      <td>Children &amp; Family Movies, Comedies</td>\n",
              "      <td>Before planning an awesome wedding for his gra...</td>\n",
              "    </tr>\n",
              "    <tr>\n",
              "      <th>1</th>\n",
              "      <td>80117401</td>\n",
              "      <td>Movie</td>\n",
              "      <td>Jandino: Whatever it Takes</td>\n",
              "      <td>NaN</td>\n",
              "      <td>Jandino Asporaat</td>\n",
              "      <td>United Kingdom</td>\n",
              "      <td>September 9, 2016</td>\n",
              "      <td>2016</td>\n",
              "      <td>TV-MA</td>\n",
              "      <td>94 min</td>\n",
              "      <td>Stand-Up Comedy</td>\n",
              "      <td>Jandino Asporaat riffs on the challenges of ra...</td>\n",
              "    </tr>\n",
              "    <tr>\n",
              "      <th>2</th>\n",
              "      <td>70234439</td>\n",
              "      <td>TV Show</td>\n",
              "      <td>Transformers Prime</td>\n",
              "      <td>NaN</td>\n",
              "      <td>Peter Cullen, Sumalee Montano, Frank Welker, J...</td>\n",
              "      <td>United States</td>\n",
              "      <td>September 8, 2018</td>\n",
              "      <td>2013</td>\n",
              "      <td>TV-Y7-FV</td>\n",
              "      <td>1 Season</td>\n",
              "      <td>Kids' TV</td>\n",
              "      <td>With the help of three human allies, the Autob...</td>\n",
              "    </tr>\n",
              "    <tr>\n",
              "      <th>3</th>\n",
              "      <td>80058654</td>\n",
              "      <td>TV Show</td>\n",
              "      <td>Transformers: Robots in Disguise</td>\n",
              "      <td>NaN</td>\n",
              "      <td>Will Friedle, Darren Criss, Constance Zimmer, ...</td>\n",
              "      <td>United States</td>\n",
              "      <td>September 8, 2018</td>\n",
              "      <td>2016</td>\n",
              "      <td>TV-Y7</td>\n",
              "      <td>1 Season</td>\n",
              "      <td>Kids' TV</td>\n",
              "      <td>When a prison ship crash unleashes hundreds of...</td>\n",
              "    </tr>\n",
              "    <tr>\n",
              "      <th>4</th>\n",
              "      <td>80125979</td>\n",
              "      <td>Movie</td>\n",
              "      <td>#realityhigh</td>\n",
              "      <td>Fernando Lebrija</td>\n",
              "      <td>Nesta Cooper, Kate Walsh, John Michael Higgins...</td>\n",
              "      <td>United States</td>\n",
              "      <td>September 8, 2017</td>\n",
              "      <td>2017</td>\n",
              "      <td>TV-14</td>\n",
              "      <td>99 min</td>\n",
              "      <td>Comedies</td>\n",
              "      <td>When nerdy high schooler Dani finally attracts...</td>\n",
              "    </tr>\n",
              "  </tbody>\n",
              "</table>\n",
              "</div>"
            ],
            "text/plain": [
              "    show_id     type                                    title  \\\n",
              "0  81145628    Movie  Norm of the North: King Sized Adventure   \n",
              "1  80117401    Movie               Jandino: Whatever it Takes   \n",
              "2  70234439  TV Show                       Transformers Prime   \n",
              "3  80058654  TV Show         Transformers: Robots in Disguise   \n",
              "4  80125979    Movie                             #realityhigh   \n",
              "\n",
              "                   director  \\\n",
              "0  Richard Finn, Tim Maltby   \n",
              "1                       NaN   \n",
              "2                       NaN   \n",
              "3                       NaN   \n",
              "4          Fernando Lebrija   \n",
              "\n",
              "                                                cast  \\\n",
              "0  Alan Marriott, Andrew Toth, Brian Dobson, Cole...   \n",
              "1                                   Jandino Asporaat   \n",
              "2  Peter Cullen, Sumalee Montano, Frank Welker, J...   \n",
              "3  Will Friedle, Darren Criss, Constance Zimmer, ...   \n",
              "4  Nesta Cooper, Kate Walsh, John Michael Higgins...   \n",
              "\n",
              "                                    country         date_added  release_year  \\\n",
              "0  United States, India, South Korea, China  September 9, 2019          2019   \n",
              "1                            United Kingdom  September 9, 2016          2016   \n",
              "2                             United States  September 8, 2018          2013   \n",
              "3                             United States  September 8, 2018          2016   \n",
              "4                             United States  September 8, 2017          2017   \n",
              "\n",
              "     rating  duration                           listed_in  \\\n",
              "0     TV-PG    90 min  Children & Family Movies, Comedies   \n",
              "1     TV-MA    94 min                     Stand-Up Comedy   \n",
              "2  TV-Y7-FV  1 Season                            Kids' TV   \n",
              "3     TV-Y7  1 Season                            Kids' TV   \n",
              "4     TV-14    99 min                            Comedies   \n",
              "\n",
              "                                         description  \n",
              "0  Before planning an awesome wedding for his gra...  \n",
              "1  Jandino Asporaat riffs on the challenges of ra...  \n",
              "2  With the help of three human allies, the Autob...  \n",
              "3  When a prison ship crash unleashes hundreds of...  \n",
              "4  When nerdy high schooler Dani finally attracts...  "
            ]
          },
          "execution_count": 3,
          "metadata": {},
          "output_type": "execute_result"
        }
      ],
      "source": [
        "# Then, explore the data by seeing what the first few rows look like.\n",
        "netflix.head()"
      ]
    },
    {
      "cell_type": "code",
      "execution_count": null,
      "metadata": {
        "id": "GcL5zb6kAYc7"
      },
      "outputs": [],
      "source": [
        "# Next, display a technical summary of the data to determine the data types of each column, and which columns have missing data.\n",
        "netflix.info()\n"
      ]
    },
    {
      "cell_type": "markdown",
      "metadata": {
        "id": "CqdAa4EfJ9T0"
      },
      "source": [
        "## Part 3: Filter the Data\n",
        "\n",
        "Since we're just interested in movies, we'll need to [filter out anything](https://pandas.pydata.org/docs/getting_started/intro_tutorials/03_subset_data.html) that isn't a movie for our analysis. The `type` feature contains this information.\n",
        "\n",
        "Once we have the subset, we should see how many rows it contains. There are a [variety of ways to get the length of a data frame](https://stackoverflow.com/a/38025280/28106)."
      ]
    },
    {
      "cell_type": "code",
      "execution_count": 4,
      "metadata": {
        "id": "i8wdC-qpPjqF"
      },
      "outputs": [
        {
          "data": {
            "text/plain": [
              "4265"
            ]
          },
          "execution_count": 4,
          "metadata": {},
          "output_type": "execute_result"
        }
      ],
      "source": [
        "# Use pandas's filtering abilitites to select the subset of data\n",
        "# that represents movies, then calculate how many rows are in the filtered data.\n",
        "# rows where the 'type' is 'Movie'\n",
        "movies_data = netflix[netflix['type'] == 'Movie']\n",
        "\n",
        "movies_data\n",
        "# the number of rows in filtered data\n",
        "num_movies_rows = len(movies_data)\n",
        "\n",
        "num_movies_rows"
      ]
    },
    {
      "cell_type": "markdown",
      "metadata": {
        "id": "sxWEVnHyVV8c"
      },
      "source": [
        "### MPAA Ratings\n",
        "Now that we have only movies, let's get a [quick count of the values being used](https://pandas.pydata.org/docs/getting_started/intro_tutorials/06_calculate_statistics.html)  in the `rating` feature."
      ]
    },
    {
      "cell_type": "code",
      "execution_count": 5,
      "metadata": {
        "id": "bH4pNyeVVx0R"
      },
      "outputs": [
        {
          "data": {
            "text/plain": [
              "rating  \n",
              "TV-MA       1348\n",
              "TV-14       1038\n",
              "R            506\n",
              "TV-PG        432\n",
              "PG-13        286\n",
              "NR           202\n",
              "PG           183\n",
              "TV-G          80\n",
              "TV-Y7         69\n",
              "TV-Y          41\n",
              "G             36\n",
              "TV-Y7-FV      27\n",
              "UR             7\n",
              "NC-17          2\n",
              "Name: count, dtype: int64"
            ]
          },
          "execution_count": 5,
          "metadata": {},
          "output_type": "execute_result"
        }
      ],
      "source": [
        "# Determine the number of records for each value of the \"rating\" feature.\n",
        "# Remember to count the values in your subset only, not in the original dataframe.\n",
        "\n",
        "rating_counts = movies_data[['rating']].value_counts()\n",
        "\n",
        "rating_counts"
      ]
    },
    {
      "cell_type": "markdown",
      "metadata": {
        "id": "81bBg3tbV_5s"
      },
      "source": [
        "### More Filtering\n",
        "\n",
        "There are apparently some \"made for TV\" movies in the list that don't fit the\n",
        "MPAA rating scheme.\n",
        "\n",
        "Let's [filter some more](https://pandas.pydata.org/docs/getting_started/intro_tutorials/03_subset_data.html) to just see movies rated with the standard MPAA ratings of G, PG, PG-13, R, and NC-17."
      ]
    },
    {
      "cell_type": "code",
      "execution_count": 6,
      "metadata": {
        "id": "kQmlZqO5Wb_N"
      },
      "outputs": [
        {
          "name": "stdout",
          "output_type": "stream",
          "text": [
            "Rows in the standard MPAA ratings: 1013\n",
            "Rating counts in the children movies: rating\n",
            "R        506\n",
            "PG-13    286\n",
            "PG       183\n",
            "G         36\n",
            "NC-17      2\n",
            "Name: count, dtype: int64\n"
          ]
        }
      ],
      "source": [
        "# Filter the list of movies to select a new subset containing only movies with\n",
        "# a standard MPAA rating. Calculate how many rows are in this new set, and\n",
        "# then see which ratings appear most often.\n",
        "\n",
        "# the movies with standard MPAA rating\n",
        "\n",
        "standard_ratings = ['G', 'PG', 'PG-13', 'R', 'NC-17']\n",
        "\n",
        "standard_movies = movies_data[movies_data['rating'].isin(standard_ratings)]\n",
        "\n",
        "# number of rows in the children movies\n",
        "rows_in_standard_movies = len(standard_movies)\n",
        "\n",
        "# display number of rows in children movies\n",
        "print(f'Rows in the standard MPAA ratings: {rows_in_standard_movies}')\n",
        "\n",
        "# counts of each standard MPAA rating in the children movies\n",
        "standard_movies_rating_counts = standard_movies['rating'].value_counts()\n",
        "\n",
        "print(f'Rating counts in the children movies: {standard_movies_rating_counts}')\n"
      ]
    },
    {
      "cell_type": "markdown",
      "metadata": {
        "id": "cl30h29pWp26"
      },
      "source": [
        "## Part 4: Visualization\n",
        "Now that we have explored and preprocessed our data, let's create a visualization to summarize our findings.\n",
        "\n",
        "### Exploration vs Presentation\n",
        "Broadly speaking, there are two types of visualizations:\n",
        "* Barebones visualizations you might use to get a quick, visual understanding of the data while you're trying to decide how it all fits together.\n",
        "* Presentation-quality visualizations that you would include in a report or presentation for management or other stakeholders.\n",
        "\n",
        "### Visualization Tools\n",
        "There are many different visualization tools availble. In the sections below,\n",
        "we'll explore the three most common. Each of these libraries has strengths and weaknesses.\n",
        "\n",
        "It is probably a good idea for you to become familiar with each one, and then become proficient at whichever one you like the best."
      ]
    },
    {
      "cell_type": "markdown",
      "metadata": {
        "id": "ebhKz6g9DmRE"
      },
      "source": [
        "### Altair\n",
        "The Altair visualization library provides a large variety of very easy to use statistical charting tools.\n",
        "\n",
        "Altair uses a declarative language to build up charts piece by piece.\n",
        "\n",
        "Assume we have a pandas dataframe called `employees`, with three columns: `name`, `job`, `salary`.\n",
        "\n",
        "    # Make a box plot style categorical plot showing the distribution of salaries for each job:\n",
        "    alt.Chart(employees).mark_boxplot().encode(\n",
        "        x='job',\n",
        "        y='salary'\n",
        "    )\n",
        "\n",
        "    # Make a box plot style categorical plot, and customize the results\n",
        "    alt.Chart(employees).mark_boxplot().encode(\n",
        "        alt.X('job', title='Job title'),\n",
        "        alt.Y('salary', title='Annual salary in thousands of $USD')\n",
        "    ).properties(\n",
        "      title='Salaries by Job Title'\n",
        "    )"
      ]
    },
    {
      "cell_type": "markdown",
      "metadata": {
        "id": "kOVsR0WCIm-L"
      },
      "source": [
        "Like with Pandas, there is a [conventional way to import Altair](https://altair-viz.github.io/getting_started/starting.html#the-chart-object) into your projects."
      ]
    },
    {
      "cell_type": "code",
      "execution_count": 16,
      "metadata": {
        "id": "mYmVEExwD9O9"
      },
      "outputs": [],
      "source": [
        "# Import the Altair library the conventional way.\n",
        "import altair as alt\n"
      ]
    },
    {
      "cell_type": "markdown",
      "metadata": {
        "id": "IAw61g-CD-Je"
      },
      "source": [
        "Let's create a barchart showing the count of each movie rating by using Altair's aggregation capabilities.\n",
        "\n",
        "In [this example](https://altair-viz.github.io/getting_started/starting.html#data-transformation-aggregation), we see the x axis being set to a feature called `a`, and the y axis set to the `average()` of a feature called `b`.\n",
        "\n",
        "In our case, we want the x axis to be set to `rating` and the y axis to be the `count()` of `rating`."
      ]
    },
    {
      "cell_type": "code",
      "execution_count": 20,
      "metadata": {
        "id": "lixpX9B-EEQS"
      },
      "outputs": [
        {
          "data": {
            "text/html": [
              "\n",
              "<style>\n",
              "  #altair-viz-00809a12d7234fecb4b7b38add376c2e.vega-embed {\n",
              "    width: 100%;\n",
              "    display: flex;\n",
              "  }\n",
              "\n",
              "  #altair-viz-00809a12d7234fecb4b7b38add376c2e.vega-embed details,\n",
              "  #altair-viz-00809a12d7234fecb4b7b38add376c2e.vega-embed details summary {\n",
              "    position: relative;\n",
              "  }\n",
              "</style>\n",
              "<div id=\"altair-viz-00809a12d7234fecb4b7b38add376c2e\"></div>\n",
              "<script type=\"text/javascript\">\n",
              "  var VEGA_DEBUG = (typeof VEGA_DEBUG == \"undefined\") ? {} : VEGA_DEBUG;\n",
              "  (function(spec, embedOpt){\n",
              "    let outputDiv = document.currentScript.previousElementSibling;\n",
              "    if (outputDiv.id !== \"altair-viz-00809a12d7234fecb4b7b38add376c2e\") {\n",
              "      outputDiv = document.getElementById(\"altair-viz-00809a12d7234fecb4b7b38add376c2e\");\n",
              "    }\n",
              "    const paths = {\n",
              "      \"vega\": \"https://cdn.jsdelivr.net/npm/vega@5?noext\",\n",
              "      \"vega-lib\": \"https://cdn.jsdelivr.net/npm/vega-lib?noext\",\n",
              "      \"vega-lite\": \"https://cdn.jsdelivr.net/npm/vega-lite@5.16.3?noext\",\n",
              "      \"vega-embed\": \"https://cdn.jsdelivr.net/npm/vega-embed@6?noext\",\n",
              "    };\n",
              "\n",
              "    function maybeLoadScript(lib, version) {\n",
              "      var key = `${lib.replace(\"-\", \"\")}_version`;\n",
              "      return (VEGA_DEBUG[key] == version) ?\n",
              "        Promise.resolve(paths[lib]) :\n",
              "        new Promise(function(resolve, reject) {\n",
              "          var s = document.createElement('script');\n",
              "          document.getElementsByTagName(\"head\")[0].appendChild(s);\n",
              "          s.async = true;\n",
              "          s.onload = () => {\n",
              "            VEGA_DEBUG[key] = version;\n",
              "            return resolve(paths[lib]);\n",
              "          };\n",
              "          s.onerror = () => reject(`Error loading script: ${paths[lib]}`);\n",
              "          s.src = paths[lib];\n",
              "        });\n",
              "    }\n",
              "\n",
              "    function showError(err) {\n",
              "      outputDiv.innerHTML = `<div class=\"error\" style=\"color:red;\">${err}</div>`;\n",
              "      throw err;\n",
              "    }\n",
              "\n",
              "    function displayChart(vegaEmbed) {\n",
              "      vegaEmbed(outputDiv, spec, embedOpt)\n",
              "        .catch(err => showError(`Javascript Error: ${err.message}<br>This usually means there's a typo in your chart specification. See the javascript console for the full traceback.`));\n",
              "    }\n",
              "\n",
              "    if(typeof define === \"function\" && define.amd) {\n",
              "      requirejs.config({paths});\n",
              "      require([\"vega-embed\"], displayChart, err => showError(`Error loading script: ${err.message}`));\n",
              "    } else {\n",
              "      maybeLoadScript(\"vega\", \"5\")\n",
              "        .then(() => maybeLoadScript(\"vega-lite\", \"5.16.3\"))\n",
              "        .then(() => maybeLoadScript(\"vega-embed\", \"6\"))\n",
              "        .catch(showError)\n",
              "        .then(() => displayChart(vegaEmbed));\n",
              "    }\n",
              "  })({\"config\": {\"view\": {\"continuousWidth\": 300, \"continuousHeight\": 300}}, \"data\": {\"name\": \"data-211cb8f6d817c63603d12150e02a5799\"}, \"mark\": {\"type\": \"bar\"}, \"encoding\": {\"tooltip\": [{\"field\": \"rating\", \"type\": \"nominal\"}, {\"field\": \"count\", \"type\": \"quantitative\"}], \"x\": {\"field\": \"rating\", \"type\": \"nominal\"}, \"y\": {\"field\": \"count\", \"type\": \"quantitative\"}}, \"title\": \"Count of Children Movies by Rating\", \"$schema\": \"https://vega.github.io/schema/vega-lite/v5.16.3.json\", \"datasets\": {\"data-211cb8f6d817c63603d12150e02a5799\": [{\"rating\": \"R\", \"count\": 506}, {\"rating\": \"PG-13\", \"count\": 286}, {\"rating\": \"PG\", \"count\": 183}, {\"rating\": \"G\", \"count\": 36}, {\"rating\": \"NC-17\", \"count\": 2}]}}, {\"mode\": \"vega-lite\"});\n",
              "</script>"
            ],
            "text/plain": [
              "alt.Chart(...)"
            ]
          },
          "metadata": {},
          "output_type": "display_data"
        }
      ],
      "source": [
        "# Use Altair to create a bar chart comparing the count of each movie rating\n",
        "# Count the occurrences of each rating\n",
        "rating_counts = standard_movies['rating'].value_counts().reset_index()\n",
        "rating_counts.columns = ['rating', 'count']\n",
        "\n",
        "# Create a bar chart using Altair\n",
        "chart_bar0 = alt.Chart(rating_counts).mark_bar().encode(\n",
        "    x='rating',\n",
        "    y='count',\n",
        "    tooltip=['rating', 'count']\n",
        ").properties(\n",
        "    title='Count of Children Movies by Rating'\n",
        ")\n",
        "\n",
        "# Show the chart\n",
        "chart_bar0.display()\n",
        "\n",
        "# chart_bar0.save('screenshots/chart_bar0.html')"
      ]
    },
    {
      "cell_type": "code",
      "execution_count": 22,
      "metadata": {},
      "outputs": [],
      "source": [
        "# This is a 'presentation quality' visualization.\n",
        "# -Each axis is labeled using proper title casing\n",
        "# -There's a properly formatted chart title\n",
        "# -Note that we turn off the legend because the information is redundant\n",
        "# -it's scaled up to a good size\n",
        "# -We're rearranging the category order on the x axis to map to how most people\n",
        "# would think about this data\n",
        "chart_bar1 = alt.Chart(standard_movies).mark_bar().encode(\n",
        "  alt.X('rating', title='MPAA Rating', sort=['G', 'PG', 'PG-13', 'R', 'NC-17']),\n",
        "  alt.Y('count(rating)', title='Number of Movies on Netflix'),\n",
        "  alt.Color('rating', legend=None)\n",
        ").properties(\n",
        "  title='Netflix Movie Ratings',\n",
        "  width=600\n",
        ")\n",
        "\n",
        "chart_bar1.save('screenshots/chart_bar1.html')"
      ]
    },
    {
      "cell_type": "markdown",
      "metadata": {
        "id": "z4Uz_X1QDivG"
      },
      "source": [
        "\n",
        "### Seaborn\n",
        "While Altair uses a \"declarative\" syntax for building charts piece by piece, the Seaborn library provides a large variety of pre-made charts for common statistical needs.\n",
        "\n",
        "These charts are divided into different categories. Each category has a high-level interface you can use for simplicity, and then a specific function for each chart that you can use if you need more control over how the chart looks.\n",
        "\n",
        "Seaborn uses matplotlib for its drawing, and the chart-specific functions each return a matplitlib axes object if you need additional customization.\n",
        "\n",
        "For example, there are several different types of categorical plots in seaborn: bar plots, box plots, point plots, count plots, swarm plots, etc...\n",
        "\n",
        "Each of these plots can be accessed using the `catplot` function.\n",
        "\n",
        "Assume we have a pandas dataframe called `employees`, with three columns: `name`, `job`, `salary`.\n",
        "\n",
        "    # Make a box plot style categorical plot showing the distribution of salaries for each job:\n",
        "    sns.catplot(data=employees, x='job', y='salary', kind='box')\n",
        "\n",
        "    # Make a swarm plot style categorical plot\n",
        "    sns.catplot(data=employees, x='job', y='salary', kind='swarm')\n",
        "\n",
        "Alternatively, you can use the plot specific functions to give yourself more control over the output by using matplotlib functions:\n",
        "\n",
        "    # Make a box plot style categorical plot, and customize the results\n",
        "    import matplotlib.pyplot as plt\n",
        "\n",
        "    plt.figure(figsize=(12, 9))\n",
        "    ax = sns.boxplot(data=employees, x='job', y='salary')\n",
        "    ax.set_title(\"Salaries by Job Title\")\n",
        "    ax.set_ylabel(\"Annual salary in thousands of $USD\")\n",
        "    ax.set_xlabel(\"Job title\")\n",
        "    "
      ]
    },
    {
      "cell_type": "markdown",
      "metadata": {
        "id": "fW3CV6KTIcxb"
      },
      "source": [
        "Like with Pandas, there is a [conventional way to import Seaborn](https://seaborn.pydata.org/tutorial/relational.html) into your projects.\n",
        "\n",
        "Optionally, you may wish to set some default chart aesthetics by [setting the chart style](https://seaborn.pydata.org/tutorial/aesthetics.html)."
      ]
    },
    {
      "cell_type": "code",
      "execution_count": 23,
      "metadata": {},
      "outputs": [],
      "source": [
        "# Import the seaborn library the conventional way. Then optionally configure\n",
        "# the default chart style.\n",
        "import seaborn as sns\n",
        "\n",
        "# set some default styling\n",
        "sns.set()\n",
        "\n",
        "# choose theme\n",
        "sns.set_style('ticks')"
      ]
    },
    {
      "cell_type": "code",
      "execution_count": 24,
      "metadata": {},
      "outputs": [
        {
          "data": {
            "text/plain": [
              "<seaborn.axisgrid.FacetGrid at 0x22f969d7380>"
            ]
          },
          "execution_count": 24,
          "metadata": {},
          "output_type": "execute_result"
        },
        {
          "data": {
            "image/png": "[encoded data removed]",
            "text/plain": [
              "<Figure size 500x500 with 1 Axes>"
            ]
          },
          "metadata": {},
          "output_type": "display_data"
        }
      ],
      "source": [
        "# use seaborn to create a count plot comparing the count of each movie rating_counts\n",
        "# -Note that this is a 'barebones visualization'.capitalize\n",
        "# -It's fine for a quick understanding of the data, but it's not something we'def\n",
        "# -want to put in a report or presentation\n",
        "sns.catplot(data=standard_movies, x='rating', kind='count')"
      ]
    },
    {
      "cell_type": "code",
      "execution_count": 25,
      "metadata": {
        "id": "6UZKj1yMXTYg"
      },
      "outputs": [],
      "source": [
        "# Import the seaborn library the conventional way. Then optionally configure\n",
        "# the default chart style.\n",
        "# This is a \"presentation quality\" visualization.\n",
        "# - Each axis is labeled using proper title casing\n",
        "# - There's a properly formatted chart title\n",
        "# - No legend is needed because the information would be redundant\n",
        "# - It's scaled up to a good size\n",
        "# - We're rearranging the category order on the x axis to map to how most people\n",
        "#   would think about this data.\n",
        "import seaborn as sns\n",
        "import matplotlib.pyplot as plt"
      ]
    },
    {
      "cell_type": "markdown",
      "metadata": {
        "id": "AWlh7ipsXaYM"
      },
      "source": [
        "Since the `rating` column uses categorical data, we need to use Seaborn's [categorical visualizations](https://seaborn.pydata.org/tutorial/categorical.html).\n",
        "\n",
        "In particular, we want a \"count plot\" that will display a count of movie ratings.\n",
        "\n"
      ]
    },
    {
      "cell_type": "code",
      "execution_count": 26,
      "metadata": {
        "id": "-T6xRLvAYJIf"
      },
      "outputs": [
        {
          "data": {
            "image/png": "[encoded data removed]",
            "text/plain": [
              "<Figure size 1000x600 with 1 Axes>"
            ]
          },
          "metadata": {},
          "output_type": "display_data"
        }
      ],
      "source": [
        "# seaborn count plot\n",
        "plt.figure(figsize=(10, 6))\n",
        "sns.countplot(x='rating', data=standard_movies, hue='rating', palette='viridis', order=['G', 'PG', 'PG-13', 'R', 'NC-17'], legend=False)\n",
        "\n",
        "# labels and title\n",
        "plt.xlabel('Netflix Movie Rating')\n",
        "plt.ylabel('Count')\n",
        "plt.title('Count of Movies by Rating')\n",
        "\n",
        "# show the plot\n",
        "plt.show()"
      ]
    },
    {
      "cell_type": "markdown",
      "metadata": {
        "id": "HWUrbz38L_1X"
      },
      "source": [
        "### Pandas built-in plotting\n",
        "In addition to libraries like Altair and Seaborn, Pandas has some [built in charting functionality](https://pandas.pydata.org/docs/getting_started/intro_tutorials/04_plotting.html).\n",
        "\n",
        "While not as sophisticated as some of the other options, it is often good enough for quick visualizations.\n",
        "\n",
        "Just like with seaborn's plotting functions, the pandas plotting functions return matplotlib axes objects, which can be further customized.\n",
        "\n",
        "Assume we have a pandas dataframe called `employees`, with three columns: `name`, `job`, `salary`.\n",
        "\n",
        "    # Make a box plot style categorical plot showing the distribution of salaries for each job:\n",
        "    employees[ ['job','salary'] ].plot.box()\n",
        "\n",
        "    # Make a box plot style categorical plot, and customize the results\n",
        "    import matplotlib.pyplot as plt\n",
        "\n",
        "    plt.figure(figsize=(12, 9))\n",
        "    ax = employees[ ['job','salary'] ].plot().box()\n",
        "    ax.set_title(\"Salaries by Job Title\")\n",
        "    ax.set_ylabel(\"Annual salary in thousands of $USD\")\n",
        "    ax.set_xlabel(\"Job title\")\n"
      ]
    },
    {
      "cell_type": "code",
      "execution_count": null,
      "metadata": {
        "id": "Y0PW4s0LNjld"
      },
      "outputs": [],
      "source": [
        "# Use pandas' built in plotting functions to create a count plot comparing the count of each movie rating\n",
        "# This will be a little trickier than the other libraries, but one hint is that the pandas value_counts() function\n",
        "# actually returns a dataframe.\n",
        "# Note that this is a \"barebones visualization\". \n",
        "# It's fine for a quick understanding of the data, but it's not something we'd \n",
        "# want to put in a report or presentation.\n",
        "standard_movies['rating'].value_counts().plot.bar()"
      ]
    },
    {
      "cell_type": "code",
      "execution_count": 27,
      "metadata": {},
      "outputs": [
        {
          "data": {
            "text/plain": [
              "Text(0.5, 0, 'MPAA Rating')"
            ]
          },
          "execution_count": 27,
          "metadata": {},
          "output_type": "execute_result"
        },
        {
          "data": {
            "image/png": "[encoded data removed]",
            "text/plain": [
              "<Figure size 1000x600 with 1 Axes>"
            ]
          },
          "metadata": {},
          "output_type": "display_data"
        }
      ],
      "source": [
        "# The latest version of pandas uses monochrome for a lot of charting.\n",
        "# So we'll create a list of colors to use\n",
        "colors = ['#5875A4', '#CC8962', '#5F9E6E', '#B55D60', '#F58519']\n",
        "\n",
        "# Get the value counts as a dataframe and change the ordering\n",
        "rating_counts = standard_movies['rating'].value_counts().reindex(['G', 'PG', 'PG-13', 'R', 'NC-17'])\n",
        "\n",
        "# In pandas, we could actually supply figsize, title, xlabel, and ylabel as arguments to the plot function\n",
        "# But we separate them out here for better readability\n",
        "plt.figure(figsize=(10,6))\n",
        "ax = rating_counts.plot.bar(color=colors)\n",
        "ax.set_title(\"Netflix Movie Ratings\")\n",
        "ax.set_ylabel(\"Number of Movies on Netflix\")\n",
        "ax.set_xlabel(\"MPAA Rating\")\n",
        "\n",
        "# This is a \"presentation quality\" visualization.\n",
        "# - Each axis is labeled using proper title casing\n",
        "# - There's a properly formatted chart title\n",
        "# - No legend is needed because the information would be redundant\n",
        "# - It's scaled up to a good size\n",
        "# - We're rearranging the category order on the x axis to map to how most people\n",
        "#   would think about this data."
      ]
    },
    {
      "cell_type": "markdown",
      "metadata": {
        "id": "7EA2lAfbYRAc"
      },
      "source": [
        "# Part 5: Interpretation and Conclusions\n",
        "\n",
        "Now that you've seen the data, what is your conclusion? Is the watchdog group\n",
        "correct that Netflix has more movies for adults than for children? Are there any\n",
        "caveats you'd include in your analysis?"
      ]
    },
    {
      "cell_type": "markdown",
      "metadata": {
        "id": "EMBvHrExYr24"
      },
      "source": [
        "Write your summary here:\n",
        "\n",
        "\n"
      ]
    },
    {
      "cell_type": "markdown",
      "metadata": {
        "id": "3tOuwFOZYvVP"
      },
      "source": [
        "## 🌟 Above and Beyond 🌟\n",
        "\n",
        "After reviewing your findings, the watchdog group would like some additional questions answered:\n",
        "\n",
        "1. How are things affected if you include the \"made for TV movies\" that have been assigned [TV ratings](https://en.wikipedia.org/wiki/Television_content_rating_system#United_States) in your analysis, but still exclude unrated movies?\n",
        "\n",
        "2. They would also like to see a separate report that includes only TV shows.\n",
        "\n",
        "3. For an upcoming community meeting, the group would like to present a simple\n",
        "chart showing \"For Kids\" and \"For Adults\" categories. The easiest way to accomplish this would be to [create a new column in your data frame that maps](https://pandas.pydata.org/docs/getting_started/intro_tutorials/10_text_data.html) each rating to the appropriate \"For Kids\" or \"For Adults\" label, then create a new visualization based on that column."
      ]
    }
  ],
  "metadata": {
    "colab": {
      "name": "Exploration-01.ipynb",
      "provenance": [],
      "toc_visible": true
    },
    "kernelspec": {
      "display_name": "Python 3",
      "name": "python3"
    },
    "language_info": {
      "codemirror_mode": {
        "name": "ipython",
        "version": 3
      },
      "file_extension": ".py",
      "mimetype": "text/x-python",
      "name": "python",
      "nbconvert_exporter": "python",
      "pygments_lexer": "ipython3",
      "version": "3.12.0"
    }
  },
  "nbformat": 4,
  "nbformat_minor": 0
}
