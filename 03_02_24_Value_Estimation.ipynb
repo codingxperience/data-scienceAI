{
  "nbformat": 4,
  "nbformat_minor": 0,
  "metadata": {
    "colab": {
      "provenance": []
    },
    "kernelspec": {
      "name": "python3",
      "display_name": "Python 3"
    },
    "language_info": {
      "name": "python"
    }
  },
  "cells": [
    {
      "cell_type": "code",
      "source": [
        "!pip install joblib\n"
      ],
      "metadata": {
        "colab": {
          "base_uri": "https://localhost:8080/"
        },
        "id": "uE4pG-o9eyR8",
        "outputId": "409db077-b931-4b17-f848-1a8d81015755"
      },
      "execution_count": 3,
      "outputs": [
        {
          "output_type": "stream",
          "name": "stdout",
          "text": [
            "Requirement already satisfied: joblib in /usr/local/lib/python3.10/dist-packages (1.3.2)\n"
          ]
        }
      ]
    },
    {
      "cell_type": "code",
      "source": [
        "import pandas as pd\n",
        "from sklearn.model_selection import train_test_split\n",
        "from sklearn import ensemble\n",
        "from sklearn.metrics import mean_absolute_error\n",
        "import joblib"
      ],
      "metadata": {
        "id": "cX-RcSRJe41d"
      },
      "execution_count": 5,
      "outputs": []
    },
    {
      "cell_type": "code",
      "source": [
        "# Load the data set\n",
        "df = pd.read_csv(\"ml_house_data_set.csv\")"
      ],
      "metadata": {
        "id": "aQMrLiBIfG1P"
      },
      "execution_count": 6,
      "outputs": []
    },
    {
      "cell_type": "code",
      "source": [
        "# Display the first five rows of the DataFrame\n",
        "print(df.head())"
      ],
      "metadata": {
        "colab": {
          "base_uri": "https://localhost:8080/"
        },
        "id": "xTXVK0-9gxXT",
        "outputId": "5f15e841-2e55-499a-8ec5-5f0929326fc2"
      },
      "execution_count": 16,
      "outputs": [
        {
          "output_type": "stream",
          "name": "stdout",
          "text": [
            "   year_built  stories  num_bedrooms  full_bathrooms  half_bathrooms  \\\n",
            "0        1978        1             4               1               1   \n",
            "1        1958        1             3               1               1   \n",
            "2        2002        1             3               2               0   \n",
            "3        2004        1             4               2               0   \n",
            "4        2006        1             4               2               0   \n",
            "\n",
            "   livable_sqft  total_sqft garage_type  garage_sqft  carport_sqft  \\\n",
            "0          1689        1859    attached          508             0   \n",
            "1          1984        2002    attached          462             0   \n",
            "2          1581        1578        none            0           625   \n",
            "3          1829        2277    attached          479             0   \n",
            "4          1580        1749    attached          430             0   \n",
            "\n",
            "   has_fireplace  has_pool  has_central_heating  has_central_cooling  \\\n",
            "0           True     False                 True                 True   \n",
            "1           True     False                 True                 True   \n",
            "2          False     False                 True                 True   \n",
            "3           True     False                 True                 True   \n",
            "4           True     False                 True                 True   \n",
            "\n",
            "                 city  sale_price  \n",
            "0            Hallfort    270897.0  \n",
            "1            Hallfort    302404.0  \n",
            "2  Lake Christinaport   2519996.0  \n",
            "3  Lake Christinaport    197193.0  \n",
            "4  Lake Christinaport    207897.0  \n"
          ]
        }
      ]
    },
    {
      "cell_type": "code",
      "source": [
        "# Remove the fields from the data set that we don't want to include in our model\n",
        "del df['house_number']\n",
        "del df['unit_number']\n",
        "del df['street_name']\n",
        "del df['zip_code']"
      ],
      "metadata": {
        "id": "2oiVoacAfK9T"
      },
      "execution_count": 7,
      "outputs": []
    },
    {
      "cell_type": "code",
      "source": [
        "# Replace categorical data with one-hot encoded data\n",
        "features_df = pd.get_dummies(df, columns=['garage_type', 'city'])\n",
        "\n",
        "# Remove the sale price from the feature data\n",
        "del features_df['sale_price']"
      ],
      "metadata": {
        "id": "SgToU-aOfNhX"
      },
      "execution_count": 8,
      "outputs": []
    },
    {
      "cell_type": "code",
      "source": [
        "# Create the X and y arrays\n",
        "X = features_df.to_numpy()\n",
        "y = df['sale_price'].to_numpy()"
      ],
      "metadata": {
        "id": "lceLMp3sfW4T"
      },
      "execution_count": 10,
      "outputs": []
    },
    {
      "cell_type": "code",
      "source": [
        "# Split the data set in a training set (70%) and a test set (30%)\n",
        "X_train, X_test, y_train, y_test = train_test_split(X, y, test_size=0.3, random_state=0)"
      ],
      "metadata": {
        "id": "DPcX0mu9fzV3"
      },
      "execution_count": 11,
      "outputs": []
    },
    {
      "cell_type": "code",
      "source": [
        "# Fit regression model\n",
        "model = ensemble.GradientBoostingRegressor(\n",
        "    n_estimators=1000,\n",
        "    learning_rate=0.1,\n",
        "    max_depth=6,\n",
        "    min_samples_leaf=9,\n",
        "    max_features=0.1,\n",
        "    loss='huber',\n",
        "    random_state=0\n",
        ")\n",
        "model.fit(X_train, y_train)"
      ],
      "metadata": {
        "colab": {
          "base_uri": "https://localhost:8080/",
          "height": 109
        },
        "id": "h9hlr2iuf2Oe",
        "outputId": "480b2a82-7ad6-4fb5-ceb4-0e7228c88cf6"
      },
      "execution_count": 12,
      "outputs": [
        {
          "output_type": "execute_result",
          "data": {
            "text/plain": [
              "GradientBoostingRegressor(loss='huber', max_depth=6, max_features=0.1,\n",
              "                          min_samples_leaf=9, n_estimators=1000,\n",
              "                          random_state=0)"
            ],
            "text/html": [
              "<style>#sk-container-id-1 {color: black;background-color: white;}#sk-container-id-1 pre{padding: 0;}#sk-container-id-1 div.sk-toggleable {background-color: white;}#sk-container-id-1 label.sk-toggleable__label {cursor: pointer;display: block;width: 100%;margin-bottom: 0;padding: 0.3em;box-sizing: border-box;text-align: center;}#sk-container-id-1 label.sk-toggleable__label-arrow:before {content: \"▸\";float: left;margin-right: 0.25em;color: #696969;}#sk-container-id-1 label.sk-toggleable__label-arrow:hover:before {color: black;}#sk-container-id-1 div.sk-estimator:hover label.sk-toggleable__label-arrow:before {color: black;}#sk-container-id-1 div.sk-toggleable__content {max-height: 0;max-width: 0;overflow: hidden;text-align: left;background-color: #f0f8ff;}#sk-container-id-1 div.sk-toggleable__content pre {margin: 0.2em;color: black;border-radius: 0.25em;background-color: #f0f8ff;}#sk-container-id-1 input.sk-toggleable__control:checked~div.sk-toggleable__content {max-height: 200px;max-width: 100%;overflow: auto;}#sk-container-id-1 input.sk-toggleable__control:checked~label.sk-toggleable__label-arrow:before {content: \"▾\";}#sk-container-id-1 div.sk-estimator input.sk-toggleable__control:checked~label.sk-toggleable__label {background-color: #d4ebff;}#sk-container-id-1 div.sk-label input.sk-toggleable__control:checked~label.sk-toggleable__label {background-color: #d4ebff;}#sk-container-id-1 input.sk-hidden--visually {border: 0;clip: rect(1px 1px 1px 1px);clip: rect(1px, 1px, 1px, 1px);height: 1px;margin: -1px;overflow: hidden;padding: 0;position: absolute;width: 1px;}#sk-container-id-1 div.sk-estimator {font-family: monospace;background-color: #f0f8ff;border: 1px dotted black;border-radius: 0.25em;box-sizing: border-box;margin-bottom: 0.5em;}#sk-container-id-1 div.sk-estimator:hover {background-color: #d4ebff;}#sk-container-id-1 div.sk-parallel-item::after {content: \"\";width: 100%;border-bottom: 1px solid gray;flex-grow: 1;}#sk-container-id-1 div.sk-label:hover label.sk-toggleable__label {background-color: #d4ebff;}#sk-container-id-1 div.sk-serial::before {content: \"\";position: absolute;border-left: 1px solid gray;box-sizing: border-box;top: 0;bottom: 0;left: 50%;z-index: 0;}#sk-container-id-1 div.sk-serial {display: flex;flex-direction: column;align-items: center;background-color: white;padding-right: 0.2em;padding-left: 0.2em;position: relative;}#sk-container-id-1 div.sk-item {position: relative;z-index: 1;}#sk-container-id-1 div.sk-parallel {display: flex;align-items: stretch;justify-content: center;background-color: white;position: relative;}#sk-container-id-1 div.sk-item::before, #sk-container-id-1 div.sk-parallel-item::before {content: \"\";position: absolute;border-left: 1px solid gray;box-sizing: border-box;top: 0;bottom: 0;left: 50%;z-index: -1;}#sk-container-id-1 div.sk-parallel-item {display: flex;flex-direction: column;z-index: 1;position: relative;background-color: white;}#sk-container-id-1 div.sk-parallel-item:first-child::after {align-self: flex-end;width: 50%;}#sk-container-id-1 div.sk-parallel-item:last-child::after {align-self: flex-start;width: 50%;}#sk-container-id-1 div.sk-parallel-item:only-child::after {width: 0;}#sk-container-id-1 div.sk-dashed-wrapped {border: 1px dashed gray;margin: 0 0.4em 0.5em 0.4em;box-sizing: border-box;padding-bottom: 0.4em;background-color: white;}#sk-container-id-1 div.sk-label label {font-family: monospace;font-weight: bold;display: inline-block;line-height: 1.2em;}#sk-container-id-1 div.sk-label-container {text-align: center;}#sk-container-id-1 div.sk-container {/* jupyter's `normalize.less` sets `[hidden] { display: none; }` but bootstrap.min.css set `[hidden] { display: none !important; }` so we also need the `!important` here to be able to override the default hidden behavior on the sphinx rendered scikit-learn.org. See: https://github.com/scikit-learn/scikit-learn/issues/21755 */display: inline-block !important;position: relative;}#sk-container-id-1 div.sk-text-repr-fallback {display: none;}</style><div id=\"sk-container-id-1\" class=\"sk-top-container\"><div class=\"sk-text-repr-fallback\"><pre>GradientBoostingRegressor(loss=&#x27;huber&#x27;, max_depth=6, max_features=0.1,\n",
              "                          min_samples_leaf=9, n_estimators=1000,\n",
              "                          random_state=0)</pre><b>In a Jupyter environment, please rerun this cell to show the HTML representation or trust the notebook. <br />On GitHub, the HTML representation is unable to render, please try loading this page with nbviewer.org.</b></div><div class=\"sk-container\" hidden><div class=\"sk-item\"><div class=\"sk-estimator sk-toggleable\"><input class=\"sk-toggleable__control sk-hidden--visually\" id=\"sk-estimator-id-1\" type=\"checkbox\" checked><label for=\"sk-estimator-id-1\" class=\"sk-toggleable__label sk-toggleable__label-arrow\">GradientBoostingRegressor</label><div class=\"sk-toggleable__content\"><pre>GradientBoostingRegressor(loss=&#x27;huber&#x27;, max_depth=6, max_features=0.1,\n",
              "                          min_samples_leaf=9, n_estimators=1000,\n",
              "                          random_state=0)</pre></div></div></div></div></div>"
            ]
          },
          "metadata": {},
          "execution_count": 12
        }
      ]
    },
    {
      "cell_type": "code",
      "source": [
        "# Save the trained model to a file so we can use it in other programs\n",
        "joblib.dump(model, 'trained_house_classifier_model.pkl')"
      ],
      "metadata": {
        "colab": {
          "base_uri": "https://localhost:8080/"
        },
        "id": "7oSWyC1Kf4sD",
        "outputId": "b486a367-50f6-478f-ac20-41fbdea09d59"
      },
      "execution_count": 13,
      "outputs": [
        {
          "output_type": "execute_result",
          "data": {
            "text/plain": [
              "['trained_house_classifier_model.pkl']"
            ]
          },
          "metadata": {},
          "execution_count": 13
        }
      ]
    },
    {
      "cell_type": "code",
      "source": [
        "# Find the error rate on the training set\n",
        "mse = mean_absolute_error(y_train, model.predict(X_train))\n",
        "print(\"Training Set Mean Absolute Error: %.4f\" % mse)"
      ],
      "metadata": {
        "colab": {
          "base_uri": "https://localhost:8080/"
        },
        "id": "x-HTytMigSnH",
        "outputId": "6ab3574b-b9d0-4349-f430-676d80efc835"
      },
      "execution_count": 14,
      "outputs": [
        {
          "output_type": "stream",
          "name": "stdout",
          "text": [
            "Training Set Mean Absolute Error: 48727.0015\n"
          ]
        }
      ]
    },
    {
      "cell_type": "code",
      "source": [
        "# Find the error rate on the test set\n",
        "mse = mean_absolute_error(y_test, model.predict(X_test))\n",
        "print(\"Test Set Mean Absolute Error: %.4f\" % mse)"
      ],
      "metadata": {
        "colab": {
          "base_uri": "https://localhost:8080/"
        },
        "id": "RIZO9_nOgWbF",
        "outputId": "0bcf3bcc-7330-4834-a6e4-8c34dccecf9d"
      },
      "execution_count": 15,
      "outputs": [
        {
          "output_type": "stream",
          "name": "stdout",
          "text": [
            "Test Set Mean Absolute Error: 59225.2075\n"
          ]
        }
      ]
    },
    {
      "cell_type": "code",
      "source": [
        "# These are the feature labels from our data set\n",
        "import numpy as np\n",
        "feature_labels = np.array(['year_built', 'stories', 'num_bedrooms', 'full_bathrooms', 'half_bathrooms', 'livable_sqft', 'total_sqft', 'garage_sqft', 'carport_sqft', 'has_fireplace', 'has_pool', 'has_central_heating', 'has_central_cooling', 'garage_type_attached', 'garage_type_detached', 'garage_type_none', 'city_Amystad', 'city_Brownport', 'city_Chadstad', 'city_Clarkberg', 'city_Coletown', 'city_Davidfort', 'city_Davidtown', 'city_East Amychester', 'city_East Janiceville', 'city_East Justin', 'city_East Lucas', 'city_Fosterberg', 'city_Hallfort', 'city_Jeffreyhaven', 'city_Jenniferberg', 'city_Joshuafurt', 'city_Julieberg', 'city_Justinport', 'city_Lake Carolyn', 'city_Lake Christinaport', 'city_Lake Dariusborough', 'city_Lake Jack', 'city_Lake Jennifer', 'city_Leahview', 'city_Lewishaven', 'city_Martinezfort', 'city_Morrisport', 'city_New Michele', 'city_New Robinton', 'city_North Erinville', 'city_Port Adamtown', 'city_Port Andrealand', 'city_Port Daniel', 'city_Port Jonathanborough', 'city_Richardport', 'city_Rickytown', 'city_Scottberg', 'city_South Anthony', 'city_South Stevenfurt', 'city_Toddshire', 'city_Wendybury', 'city_West Ann', 'city_West Brittanyview', 'city_West Gerald', 'city_West Gregoryview', 'city_West Lydia', 'city_West Terrence'])\n"
      ],
      "metadata": {
        "id": "5vaPZsx7loU8"
      },
      "execution_count": 18,
      "outputs": []
    },
    {
      "cell_type": "code",
      "source": [
        "# Load the trained model created with train_model.py\n",
        "model = joblib.load('trained_house_classifier_model.pkl')"
      ],
      "metadata": {
        "id": "Ne5-vPRpl3d7"
      },
      "execution_count": 19,
      "outputs": []
    },
    {
      "cell_type": "code",
      "source": [
        "# Create a numpy array based on the model's feature importances\n",
        "importance = model.feature_importances_"
      ],
      "metadata": {
        "id": "LXL-WGxPl-dE"
      },
      "execution_count": 20,
      "outputs": []
    },
    {
      "cell_type": "code",
      "source": [
        "# Sort the feature labels based on the feature importance rankings from the model\n",
        "feauture_indexes_by_importance = importance.argsort()"
      ],
      "metadata": {
        "id": "byEgvZY2mCIe"
      },
      "execution_count": 21,
      "outputs": []
    },
    {
      "cell_type": "code",
      "source": [
        "# Print each feature label, from most important to least important (reverse order)\n",
        "for index in feauture_indexes_by_importance:\n",
        "    print(\"{} - {:.2f}%\".format(feature_labels[index], (importance[index] * 100.0)))"
      ],
      "metadata": {
        "colab": {
          "base_uri": "https://localhost:8080/"
        },
        "id": "HKZTcOaCmF9x",
        "outputId": "ce86f732-bd92-4697-d426-c7686aa70331"
      },
      "execution_count": 22,
      "outputs": [
        {
          "output_type": "stream",
          "name": "stdout",
          "text": [
            "city_New Robinton - 0.00%\n",
            "city_New Michele - 0.00%\n",
            "city_Martinezfort - 0.00%\n",
            "city_Julieberg - 0.00%\n",
            "city_Davidtown - 0.00%\n",
            "city_Lake Jennifer - 0.00%\n",
            "city_Rickytown - 0.01%\n",
            "city_Fosterberg - 0.01%\n",
            "city_East Justin - 0.01%\n",
            "city_West Terrence - 0.01%\n",
            "city_West Brittanyview - 0.01%\n",
            "city_South Stevenfurt - 0.01%\n",
            "city_Joshuafurt - 0.02%\n",
            "city_Leahview - 0.02%\n",
            "city_East Janiceville - 0.02%\n",
            "city_Brownport - 0.03%\n",
            "city_Amystad - 0.03%\n",
            "city_Toddshire - 0.03%\n",
            "city_Wendybury - 0.05%\n",
            "city_Port Adamtown - 0.05%\n",
            "city_Port Daniel - 0.05%\n",
            "city_Clarkberg - 0.09%\n",
            "city_Davidfort - 0.09%\n",
            "city_West Lydia - 0.12%\n",
            "city_Port Jonathanborough - 0.12%\n",
            "garage_type_detached - 0.18%\n",
            "city_Jenniferberg - 0.19%\n",
            "city_East Amychester - 0.20%\n",
            "city_Morrisport - 0.21%\n",
            "city_Lewishaven - 0.22%\n",
            "city_West Gerald - 0.23%\n",
            "city_Richardport - 0.25%\n",
            "city_North Erinville - 0.25%\n",
            "city_East Lucas - 0.27%\n",
            "city_Lake Carolyn - 0.30%\n",
            "has_central_heating - 0.33%\n",
            "city_West Gregoryview - 0.33%\n",
            "city_West Ann - 0.39%\n",
            "city_Lake Dariusborough - 0.43%\n",
            "city_South Anthony - 0.49%\n",
            "has_central_cooling - 0.56%\n",
            "city_Justinport - 0.65%\n",
            "city_Hallfort - 0.66%\n",
            "half_bathrooms - 0.93%\n",
            "garage_type_attached - 0.93%\n",
            "city_Chadstad - 1.12%\n",
            "city_Scottberg - 1.30%\n",
            "stories - 1.46%\n",
            "city_Lake Christinaport - 1.47%\n",
            "city_Lake Jack - 1.59%\n",
            "city_Port Andrealand - 1.59%\n",
            "has_fireplace - 1.86%\n",
            "garage_type_none - 2.04%\n",
            "carport_sqft - 3.35%\n",
            "city_Jeffreyhaven - 3.47%\n",
            "city_Coletown - 4.21%\n",
            "year_built - 4.31%\n",
            "has_pool - 4.40%\n",
            "num_bedrooms - 5.87%\n",
            "full_bathrooms - 9.56%\n",
            "garage_sqft - 12.23%\n",
            "livable_sqft - 15.12%\n",
            "total_sqft - 16.30%\n"
          ]
        }
      ]
    }
  ]
}