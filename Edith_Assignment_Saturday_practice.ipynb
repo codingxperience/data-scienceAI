{
  "cells": [
    {
      "cell_type": "markdown",
      "metadata": {
        "id": "dQiVZ65am13W"
      },
      "source": [
        "# Assignment\n",
        "1. Drop columns E,F,G using python\n",
        "2. Do anormalies detection. Find the abnormal columns\n",
        "3. Find the year with the least bags.\n",
        "4. Find the state with the least bags.\n",
        "5. Find the state with the highest bags of avocado\n",
        "6. Find the state with the highest price of avocado\n",
        "7. Find the state that consumes the most avocado\n",
        "8. How many default data types are in the file and state them.\n",
        "9. Use facebook prophet to predict avocado prices"
      ]
    },
    {
      "cell_type": "code",
      "execution_count": null,
      "metadata": {
        "id": "Qj7a06OKnkJT"
      },
      "outputs": [],
      "source": [
        "# Import libraries\n",
        "import pandas as pd\n",
        "import numpy as np\n",
        "from fbProphet import Prophet\n",
        "from sklearn.ensemble import IsolationForest\n",
        "from sklearn.model_selection import train_test_split\n",
        "from sklearn.metrics import classification_report"
      ]
    },
    {
      "cell_type": "code",
      "execution_count": null,
      "metadata": {
        "colab": {
          "base_uri": "https://localhost:8080/"
        },
        "id": "nFVpyCZMp5a8",
        "outputId": "56f060d7-1246-465e-b165-13995c41a4ec"
      },
      "outputs": [],
      "source": [
        "# Mount google drive\n",
        "# from google.colab import drive\n",
        "# drive.mount('/content/drive')\n"
      ]
    },
    {
      "cell_type": "code",
      "execution_count": null,
      "metadata": {
        "colab": {
          "base_uri": "https://localhost:8080/",
          "height": 206
        },
        "id": "fzgyRH5jqR9T",
        "outputId": "6991830a-3fca-4d29-bbe6-7b7a05c9542a"
      },
      "outputs": [],
      "source": [
        "# Load data\n",
        "filepath = 'data/avocado.csv'\n",
        "df = pd.read_csv(filepath)\n",
        "df.head()"
      ]
    },
    {
      "cell_type": "code",
      "execution_count": null,
      "metadata": {
        "colab": {
          "base_uri": "https://localhost:8080/"
        },
        "id": "5IMUZS06waXk",
        "outputId": "13f0056f-5342-4b60-f069-1a5442a0b088"
      },
      "outputs": [],
      "source": [
        "# preview data\n",
        "df.info()"
      ]
    },
    {
      "cell_type": "markdown",
      "metadata": {
        "id": "ljV3XMA5pwUy"
      },
      "source": [
        "# 1. Drop columns E,F,G using python"
      ]
    },
    {
      "cell_type": "code",
      "execution_count": null,
      "metadata": {
        "colab": {
          "base_uri": "https://localhost:8080/",
          "height": 206
        },
        "id": "nt09V3HPq0Fj",
        "outputId": "8eae865d-9fe1-42dc-fcfd-5fc461c30dc9"
      },
      "outputs": [],
      "source": [
        "# Drop columns\n",
        "df = df.drop(columns = ['Unnamed: 0', '4046', '4225', '4770'])\n",
        "df.head()"
      ]
    },
    {
      "cell_type": "markdown",
      "metadata": {
        "id": "FjvkC5VOsMsU"
      },
      "source": [
        "# 2. Do anormalies detection. Find the abnormal columns"
      ]
    },
    {
      "cell_type": "code",
      "execution_count": null,
      "metadata": {
        "colab": {
          "base_uri": "https://localhost:8080/",
          "height": 206
        },
        "id": "31rQRqQGvpBt",
        "outputId": "d9084217-8dcc-4e7a-a21e-9fe5c9462c4f"
      },
      "outputs": [],
      "source": [
        "# Clean data\n",
        "clean_df = df[['AveragePrice', 'Total Volume', 'Total Bags', 'Small Bags', 'Large Bags', 'XLarge Bags', 'year']]\n",
        "clean_df.head()\n"
      ]
    },
    {
      "cell_type": "code",
      "execution_count": null,
      "metadata": {
        "colab": {
          "base_uri": "https://localhost:8080/"
        },
        "id": "8TnZmBWtsaEb",
        "outputId": "29b49bea-a3c9-4c3e-fd40-42c397160db0"
      },
      "outputs": [],
      "source": [
        "random_state = np.random.RandomState(42)\n",
        "model = IsolationForest(n_estimators= 100, max_samples= 'auto', contamination= float(0.2), random_state=random_state )\n",
        "model.fit(clean_df[['AveragePrice', 'Total Volume', 'Total Bags', 'Small Bags', 'Large Bags', 'XLarge Bags', 'year']])\n",
        "# model.get_params()\n",
        "clean_df['score'] = model.decision_function(clean_df[['AveragePrice', 'Total Volume', 'Total Bags', 'Small Bags', 'Large Bags', 'XLarge Bags', 'year']])\n",
        "clean_df['anormally_score'] = model.predict(clean_df[['AveragePrice', 'Total Volume', 'Total Bags', 'Small Bags', 'Large Bags', 'XLarge Bags', 'year']])\n",
        "print(clean_df[clean_df['anormally_score'] == -1].head())"
      ]
    },
    {
      "cell_type": "markdown",
      "metadata": {
        "id": "gVGr9m1o1lyr"
      },
      "source": [
        "**The most abnormal columns are XLarge Bags and year**"
      ]
    },
    {
      "cell_type": "markdown",
      "metadata": {
        "id": "wL3iVWtx2Gua"
      },
      "source": [
        "# 3. Find the year with the least bags."
      ]
    },
    {
      "cell_type": "code",
      "execution_count": null,
      "metadata": {
        "colab": {
          "base_uri": "https://localhost:8080/"
        },
        "id": "lqNJYUE-2K-a",
        "outputId": "7503b19a-ddc4-4b5c-9c4c-9bae03ad7307"
      },
      "outputs": [],
      "source": [
        "least_bags_year = df.groupby('year')['Total Volume'].sum().sort_values(ascending = True)\n",
        "least_bags_year"
      ]
    },
    {
      "cell_type": "markdown",
      "metadata": {
        "id": "3cpDRfB52xTr"
      },
      "source": [
        "**2018 was the year with the least bags**"
      ]
    },
    {
      "cell_type": "markdown",
      "metadata": {
        "id": "aYjr54Ve3Gka"
      },
      "source": [
        "# 4. Find the state with the least bags."
      ]
    },
    {
      "cell_type": "code",
      "execution_count": null,
      "metadata": {
        "colab": {
          "base_uri": "https://localhost:8080/"
        },
        "id": "2BNaslg83Qmd",
        "outputId": "9faad82e-36c0-47ac-9b63-71195bebd41e"
      },
      "outputs": [],
      "source": [
        "least_bags_state = df.groupby('region')['Total Volume'].sum().sort_values(ascending = True)\n",
        "least_bags_state"
      ]
    },
    {
      "cell_type": "markdown",
      "metadata": {
        "id": "ekevmeTg3sEq"
      },
      "source": [
        "**Syracuse is the state with the least bags**"
      ]
    },
    {
      "cell_type": "markdown",
      "metadata": {
        "id": "M2i0GpkX4pCz"
      },
      "source": [
        "# 5. Find the state with the highest bags of avocado"
      ]
    },
    {
      "cell_type": "markdown",
      "metadata": {
        "id": "kPMPU2PO4xiD"
      },
      "source": [
        "**TotalUS is the state with the highest bags of avocado**"
      ]
    },
    {
      "cell_type": "markdown",
      "metadata": {
        "id": "g1VonnwR5TS-"
      },
      "source": [
        "# 6. Find the state with the highest price of avocado"
      ]
    },
    {
      "cell_type": "code",
      "execution_count": null,
      "metadata": {
        "colab": {
          "base_uri": "https://localhost:8080/"
        },
        "id": "E3GKeUi95Wqr",
        "outputId": "1266562d-5afb-406a-c0e5-6671a4793b15"
      },
      "outputs": [],
      "source": [
        "Highest_price_state = df.groupby('region')['AveragePrice'].mean().sort_values(ascending = False)\n",
        "Highest_price_state"
      ]
    },
    {
      "cell_type": "markdown",
      "metadata": {
        "id": "dMcFlEvf49mC"
      },
      "source": [
        "**HartfordSpringfield state has the highest price of avocado**"
      ]
    },
    {
      "cell_type": "markdown",
      "metadata": {
        "id": "PWFJCntO7Uba"
      },
      "source": [
        "# 7. Find the state that consumes the most avocado"
      ]
    },
    {
      "cell_type": "code",
      "execution_count": null,
      "metadata": {
        "colab": {
          "base_uri": "https://localhost:8080/"
        },
        "id": "2ovQc1Ah7WmB",
        "outputId": "1db33365-85fc-4060-a7c0-2688f5612d2b"
      },
      "outputs": [],
      "source": [
        "highest_consumption = df.groupby('region')['Total Volume'].sum().sort_values(ascending = False)\n",
        "highest_consumption"
      ]
    },
    {
      "cell_type": "markdown",
      "metadata": {
        "id": "z1sAzuKt7M8j"
      },
      "source": [
        "**TotalUS consumes the most avocado**"
      ]
    },
    {
      "cell_type": "markdown",
      "metadata": {
        "id": "xw7WbXXP8gHZ"
      },
      "source": [
        "# 8. How many default data types are in the file and state them."
      ]
    },
    {
      "cell_type": "code",
      "execution_count": null,
      "metadata": {
        "colab": {
          "base_uri": "https://localhost:8080/"
        },
        "id": "0IUub7iz8xii",
        "outputId": "01f15cc4-d926-461b-ec42-ffa4b3afe7fd"
      },
      "outputs": [],
      "source": [
        "# Check data types\n",
        "df.info()"
      ]
    },
    {
      "cell_type": "markdown",
      "metadata": {
        "id": "u77eDQb288C3"
      },
      "source": [
        "**There are 3 default data types namely: Float, Integer, and Object**"
      ]
    },
    {
      "cell_type": "markdown",
      "metadata": {
        "id": "CRKZdl1F9Z4b"
      },
      "source": [
        "# 9. Use facebook prophet to predict avocado prices"
      ]
    },
    {
      "cell_type": "code",
      "execution_count": null,
      "metadata": {
        "colab": {
          "base_uri": "https://localhost:8080/"
        },
        "id": "UijjGnU7vNfr",
        "outputId": "b0c1eac5-0c3c-4e09-fa40-9a6f9c5f0645"
      },
      "outputs": [],
      "source": [
        "# installing dependencies for fbprophet\n",
        "# !pip install pystan==2.19.1.1\n",
        "\n",
        "# Clone the Prophet repository\n",
        "# !git clone https://github.com/facebookincubator/prophet.git"
      ]
    },
    {
      "cell_type": "code",
      "execution_count": null,
      "metadata": {
        "id": "_C2FtGrszOes"
      },
      "outputs": [],
      "source": [
        "# !apt-get install -y build-essential\n",
        "# !pip install -U setuptools\n",
        "# !pip install pystan==2.19.1.1\n",
        "\n"
      ]
    },
    {
      "cell_type": "code",
      "execution_count": null,
      "metadata": {
        "colab": {
          "base_uri": "https://localhost:8080/"
        },
        "id": "xv5BrayV7pgW",
        "outputId": "49b11020-5670-4052-8afd-4362a45fb21b"
      },
      "outputs": [],
      "source": [
        "# !apt-get update -y\n",
        "# !apt-get install -y libomp-dev"
      ]
    },
    {
      "cell_type": "code",
      "execution_count": null,
      "metadata": {
        "id": "L_HbN5BT1BMD"
      },
      "outputs": [],
      "source": [
        "# install fbprophet\n",
        "# !pip install git+https://github.com/jonathanrocher/pandas.git@master\n",
        "# !pip install git+https://github.com/jonathanrocher/prophet.git@master\n",
        "\n",
        "# !pip install fbprophet==0.7.1"
      ]
    }
  ],
  "metadata": {
    "colab": {
      "provenance": []
    },
    "kernelspec": {
      "display_name": "Python 3",
      "name": "python3"
    },
    "language_info": {
      "codemirror_mode": {
        "name": "ipython",
        "version": 3
      },
      "file_extension": ".py",
      "mimetype": "text/x-python",
      "name": "python",
      "nbconvert_exporter": "python",
      "pygments_lexer": "ipython3",
      "version": "3.12.0"
    }
  },
  "nbformat": 4,
  "nbformat_minor": 0
}
