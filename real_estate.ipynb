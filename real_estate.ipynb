{
 "cells": [
  {
   "cell_type": "code",
   "execution_count": 54,
   "metadata": {},
   "outputs": [
    {
     "data": {
      "text/html": [
       "<div>\n",
       "<style scoped>\n",
       "    .dataframe tbody tr th:only-of-type {\n",
       "        vertical-align: middle;\n",
       "    }\n",
       "\n",
       "    .dataframe tbody tr th {\n",
       "        vertical-align: top;\n",
       "    }\n",
       "\n",
       "    .dataframe thead th {\n",
       "        text-align: right;\n",
       "    }\n",
       "</style>\n",
       "<table border=\"1\" class=\"dataframe\">\n",
       "  <thead>\n",
       "    <tr style=\"text-align: right;\">\n",
       "      <th></th>\n",
       "      <th>X1 transaction date</th>\n",
       "      <th>X2 house age</th>\n",
       "      <th>X3 distance to the nearest MRT station</th>\n",
       "      <th>X4 number of convenience stores</th>\n",
       "      <th>X5 latitude</th>\n",
       "      <th>X6 longitude</th>\n",
       "      <th>Y house price of unit area</th>\n",
       "    </tr>\n",
       "  </thead>\n",
       "  <tbody>\n",
       "    <tr>\n",
       "      <th>0</th>\n",
       "      <td>2012.916667</td>\n",
       "      <td>32.0</td>\n",
       "      <td>84.87882</td>\n",
       "      <td>10</td>\n",
       "      <td>24.98298</td>\n",
       "      <td>121.54024</td>\n",
       "      <td>37.9</td>\n",
       "    </tr>\n",
       "    <tr>\n",
       "      <th>1</th>\n",
       "      <td>2012.916667</td>\n",
       "      <td>19.5</td>\n",
       "      <td>306.59470</td>\n",
       "      <td>9</td>\n",
       "      <td>24.98034</td>\n",
       "      <td>121.53951</td>\n",
       "      <td>42.2</td>\n",
       "    </tr>\n",
       "    <tr>\n",
       "      <th>2</th>\n",
       "      <td>2013.583333</td>\n",
       "      <td>13.3</td>\n",
       "      <td>561.98450</td>\n",
       "      <td>5</td>\n",
       "      <td>24.98746</td>\n",
       "      <td>121.54391</td>\n",
       "      <td>47.3</td>\n",
       "    </tr>\n",
       "    <tr>\n",
       "      <th>3</th>\n",
       "      <td>2013.500000</td>\n",
       "      <td>13.3</td>\n",
       "      <td>561.98450</td>\n",
       "      <td>5</td>\n",
       "      <td>24.98746</td>\n",
       "      <td>121.54391</td>\n",
       "      <td>54.8</td>\n",
       "    </tr>\n",
       "    <tr>\n",
       "      <th>4</th>\n",
       "      <td>2012.833333</td>\n",
       "      <td>5.0</td>\n",
       "      <td>390.56840</td>\n",
       "      <td>5</td>\n",
       "      <td>24.97937</td>\n",
       "      <td>121.54245</td>\n",
       "      <td>43.1</td>\n",
       "    </tr>\n",
       "  </tbody>\n",
       "</table>\n",
       "</div>"
      ],
      "text/plain": [
       "   X1 transaction date  X2 house age  X3 distance to the nearest MRT station  \\\n",
       "0          2012.916667          32.0                                84.87882   \n",
       "1          2012.916667          19.5                               306.59470   \n",
       "2          2013.583333          13.3                               561.98450   \n",
       "3          2013.500000          13.3                               561.98450   \n",
       "4          2012.833333           5.0                               390.56840   \n",
       "\n",
       "   X4 number of convenience stores  X5 latitude  X6 longitude  \\\n",
       "0                               10     24.98298     121.54024   \n",
       "1                                9     24.98034     121.53951   \n",
       "2                                5     24.98746     121.54391   \n",
       "3                                5     24.98746     121.54391   \n",
       "4                                5     24.97937     121.54245   \n",
       "\n",
       "   Y house price of unit area  \n",
       "0                        37.9  \n",
       "1                        42.2  \n",
       "2                        47.3  \n",
       "3                        54.8  \n",
       "4                        43.1  "
      ]
     },
     "execution_count": 54,
     "metadata": {},
     "output_type": "execute_result"
    }
   ],
   "source": [
    "import pandas as pd\n",
    "import numpy as np\n",
    "from sklearn.linear_model import LinearRegression\n",
    "from sklearn.neighbors import KNeighborsRegressor\n",
    "from sklearn.model_selection import train_test_split\n",
    "from sklearn.metrics import r2_score, mean_squared_error\n",
    "from sklearn.preprocessing import StandardScaler, RobustScaler\n",
    "import altair as alt\n",
    "import matplotlib.pyplot as plt\n",
    "import seaborn as sns\n",
    "\n",
    "housing = pd.read_excel('data/Real_estate_valuation_data_set.xlsx')\n",
    "housing.head()"
   ]
  },
  {
   "cell_type": "code",
   "execution_count": 40,
   "metadata": {},
   "outputs": [
    {
     "data": {
      "text/html": [
       "<div>\n",
       "<style scoped>\n",
       "    .dataframe tbody tr th:only-of-type {\n",
       "        vertical-align: middle;\n",
       "    }\n",
       "\n",
       "    .dataframe tbody tr th {\n",
       "        vertical-align: top;\n",
       "    }\n",
       "\n",
       "    .dataframe thead th {\n",
       "        text-align: right;\n",
       "    }\n",
       "</style>\n",
       "<table border=\"1\" class=\"dataframe\">\n",
       "  <thead>\n",
       "    <tr style=\"text-align: right;\">\n",
       "      <th></th>\n",
       "      <th>X1 transaction date</th>\n",
       "      <th>X2 house age</th>\n",
       "      <th>X3 distance to the nearest MRT station</th>\n",
       "      <th>X4 number of convenience stores</th>\n",
       "      <th>X5 latitude</th>\n",
       "      <th>X6 longitude</th>\n",
       "      <th>Y house price of unit area</th>\n",
       "    </tr>\n",
       "  </thead>\n",
       "  <tbody>\n",
       "    <tr>\n",
       "      <th>409</th>\n",
       "      <td>2013.000000</td>\n",
       "      <td>13.7</td>\n",
       "      <td>4082.01500</td>\n",
       "      <td>0</td>\n",
       "      <td>24.94155</td>\n",
       "      <td>121.50381</td>\n",
       "      <td>15.4</td>\n",
       "    </tr>\n",
       "    <tr>\n",
       "      <th>410</th>\n",
       "      <td>2012.666667</td>\n",
       "      <td>5.6</td>\n",
       "      <td>90.45606</td>\n",
       "      <td>9</td>\n",
       "      <td>24.97433</td>\n",
       "      <td>121.54310</td>\n",
       "      <td>50.0</td>\n",
       "    </tr>\n",
       "    <tr>\n",
       "      <th>411</th>\n",
       "      <td>2013.250000</td>\n",
       "      <td>18.8</td>\n",
       "      <td>390.96960</td>\n",
       "      <td>7</td>\n",
       "      <td>24.97923</td>\n",
       "      <td>121.53986</td>\n",
       "      <td>40.6</td>\n",
       "    </tr>\n",
       "    <tr>\n",
       "      <th>412</th>\n",
       "      <td>2013.000000</td>\n",
       "      <td>8.1</td>\n",
       "      <td>104.81010</td>\n",
       "      <td>5</td>\n",
       "      <td>24.96674</td>\n",
       "      <td>121.54067</td>\n",
       "      <td>52.5</td>\n",
       "    </tr>\n",
       "    <tr>\n",
       "      <th>413</th>\n",
       "      <td>2013.500000</td>\n",
       "      <td>6.5</td>\n",
       "      <td>90.45606</td>\n",
       "      <td>9</td>\n",
       "      <td>24.97433</td>\n",
       "      <td>121.54310</td>\n",
       "      <td>63.9</td>\n",
       "    </tr>\n",
       "  </tbody>\n",
       "</table>\n",
       "</div>"
      ],
      "text/plain": [
       "     X1 transaction date  X2 house age  \\\n",
       "409          2013.000000          13.7   \n",
       "410          2012.666667           5.6   \n",
       "411          2013.250000          18.8   \n",
       "412          2013.000000           8.1   \n",
       "413          2013.500000           6.5   \n",
       "\n",
       "     X3 distance to the nearest MRT station  X4 number of convenience stores  \\\n",
       "409                              4082.01500                                0   \n",
       "410                                90.45606                                9   \n",
       "411                               390.96960                                7   \n",
       "412                               104.81010                                5   \n",
       "413                                90.45606                                9   \n",
       "\n",
       "     X5 latitude  X6 longitude  Y house price of unit area  \n",
       "409     24.94155     121.50381                        15.4  \n",
       "410     24.97433     121.54310                        50.0  \n",
       "411     24.97923     121.53986                        40.6  \n",
       "412     24.96674     121.54067                        52.5  \n",
       "413     24.97433     121.54310                        63.9  "
      ]
     },
     "execution_count": 40,
     "metadata": {},
     "output_type": "execute_result"
    }
   ],
   "source": [
    "housing.tail()"
   ]
  },
  {
   "cell_type": "code",
   "execution_count": 41,
   "metadata": {},
   "outputs": [
    {
     "name": "stdout",
     "output_type": "stream",
     "text": [
      "<class 'pandas.core.frame.DataFrame'>\n",
      "RangeIndex: 414 entries, 0 to 413\n",
      "Data columns (total 7 columns):\n",
      " #   Column                                  Non-Null Count  Dtype  \n",
      "---  ------                                  --------------  -----  \n",
      " 0   X1 transaction date                     414 non-null    float64\n",
      " 1   X2 house age                            414 non-null    float64\n",
      " 2   X3 distance to the nearest MRT station  414 non-null    float64\n",
      " 3   X4 number of convenience stores         414 non-null    int64  \n",
      " 4   X5 latitude                             414 non-null    float64\n",
      " 5   X6 longitude                            414 non-null    float64\n",
      " 6   Y house price of unit area              414 non-null    float64\n",
      "dtypes: float64(6), int64(1)\n",
      "memory usage: 22.8 KB\n"
     ]
    }
   ],
   "source": [
    "housing.info()"
   ]
  },
  {
   "cell_type": "code",
   "execution_count": 42,
   "metadata": {},
   "outputs": [
    {
     "data": {
      "text/html": [
       "<div>\n",
       "<style scoped>\n",
       "    .dataframe tbody tr th:only-of-type {\n",
       "        vertical-align: middle;\n",
       "    }\n",
       "\n",
       "    .dataframe tbody tr th {\n",
       "        vertical-align: top;\n",
       "    }\n",
       "\n",
       "    .dataframe thead th {\n",
       "        text-align: right;\n",
       "    }\n",
       "</style>\n",
       "<table border=\"1\" class=\"dataframe\">\n",
       "  <thead>\n",
       "    <tr style=\"text-align: right;\">\n",
       "      <th></th>\n",
       "      <th>X1 transaction date</th>\n",
       "      <th>X2 house age</th>\n",
       "      <th>X3 distance to the nearest MRT station</th>\n",
       "      <th>X4 number of convenience stores</th>\n",
       "      <th>X5 latitude</th>\n",
       "      <th>X6 longitude</th>\n",
       "      <th>Y house price of unit area</th>\n",
       "    </tr>\n",
       "  </thead>\n",
       "  <tbody>\n",
       "    <tr>\n",
       "      <th>count</th>\n",
       "      <td>414.000000</td>\n",
       "      <td>414.000000</td>\n",
       "      <td>414.000000</td>\n",
       "      <td>414.000000</td>\n",
       "      <td>414.000000</td>\n",
       "      <td>414.000000</td>\n",
       "      <td>414.000000</td>\n",
       "    </tr>\n",
       "    <tr>\n",
       "      <th>mean</th>\n",
       "      <td>2013.148953</td>\n",
       "      <td>17.712560</td>\n",
       "      <td>1083.885689</td>\n",
       "      <td>4.094203</td>\n",
       "      <td>24.969030</td>\n",
       "      <td>121.533361</td>\n",
       "      <td>37.980193</td>\n",
       "    </tr>\n",
       "    <tr>\n",
       "      <th>std</th>\n",
       "      <td>0.281995</td>\n",
       "      <td>11.392485</td>\n",
       "      <td>1262.109595</td>\n",
       "      <td>2.945562</td>\n",
       "      <td>0.012410</td>\n",
       "      <td>0.015347</td>\n",
       "      <td>13.606488</td>\n",
       "    </tr>\n",
       "    <tr>\n",
       "      <th>min</th>\n",
       "      <td>2012.666667</td>\n",
       "      <td>0.000000</td>\n",
       "      <td>23.382840</td>\n",
       "      <td>0.000000</td>\n",
       "      <td>24.932070</td>\n",
       "      <td>121.473530</td>\n",
       "      <td>7.600000</td>\n",
       "    </tr>\n",
       "    <tr>\n",
       "      <th>25%</th>\n",
       "      <td>2012.916667</td>\n",
       "      <td>9.025000</td>\n",
       "      <td>289.324800</td>\n",
       "      <td>1.000000</td>\n",
       "      <td>24.963000</td>\n",
       "      <td>121.528085</td>\n",
       "      <td>27.700000</td>\n",
       "    </tr>\n",
       "    <tr>\n",
       "      <th>50%</th>\n",
       "      <td>2013.166667</td>\n",
       "      <td>16.100000</td>\n",
       "      <td>492.231300</td>\n",
       "      <td>4.000000</td>\n",
       "      <td>24.971100</td>\n",
       "      <td>121.538630</td>\n",
       "      <td>38.450000</td>\n",
       "    </tr>\n",
       "    <tr>\n",
       "      <th>75%</th>\n",
       "      <td>2013.416667</td>\n",
       "      <td>28.150000</td>\n",
       "      <td>1454.279000</td>\n",
       "      <td>6.000000</td>\n",
       "      <td>24.977455</td>\n",
       "      <td>121.543305</td>\n",
       "      <td>46.600000</td>\n",
       "    </tr>\n",
       "    <tr>\n",
       "      <th>max</th>\n",
       "      <td>2013.583333</td>\n",
       "      <td>43.800000</td>\n",
       "      <td>6488.021000</td>\n",
       "      <td>10.000000</td>\n",
       "      <td>25.014590</td>\n",
       "      <td>121.566270</td>\n",
       "      <td>117.500000</td>\n",
       "    </tr>\n",
       "  </tbody>\n",
       "</table>\n",
       "</div>"
      ],
      "text/plain": [
       "       X1 transaction date  X2 house age  \\\n",
       "count           414.000000    414.000000   \n",
       "mean           2013.148953     17.712560   \n",
       "std               0.281995     11.392485   \n",
       "min            2012.666667      0.000000   \n",
       "25%            2012.916667      9.025000   \n",
       "50%            2013.166667     16.100000   \n",
       "75%            2013.416667     28.150000   \n",
       "max            2013.583333     43.800000   \n",
       "\n",
       "       X3 distance to the nearest MRT station  \\\n",
       "count                              414.000000   \n",
       "mean                              1083.885689   \n",
       "std                               1262.109595   \n",
       "min                                 23.382840   \n",
       "25%                                289.324800   \n",
       "50%                                492.231300   \n",
       "75%                               1454.279000   \n",
       "max                               6488.021000   \n",
       "\n",
       "       X4 number of convenience stores  X5 latitude  X6 longitude  \\\n",
       "count                       414.000000   414.000000    414.000000   \n",
       "mean                          4.094203    24.969030    121.533361   \n",
       "std                           2.945562     0.012410      0.015347   \n",
       "min                           0.000000    24.932070    121.473530   \n",
       "25%                           1.000000    24.963000    121.528085   \n",
       "50%                           4.000000    24.971100    121.538630   \n",
       "75%                           6.000000    24.977455    121.543305   \n",
       "max                          10.000000    25.014590    121.566270   \n",
       "\n",
       "       Y house price of unit area  \n",
       "count                  414.000000  \n",
       "mean                    37.980193  \n",
       "std                     13.606488  \n",
       "min                      7.600000  \n",
       "25%                     27.700000  \n",
       "50%                     38.450000  \n",
       "75%                     46.600000  \n",
       "max                    117.500000  "
      ]
     },
     "execution_count": 42,
     "metadata": {},
     "output_type": "execute_result"
    }
   ],
   "source": [
    "housing.describe()"
   ]
  },
  {
   "cell_type": "code",
   "execution_count": 43,
   "metadata": {},
   "outputs": [],
   "source": [
    "histogram_x1 = alt.Chart(housing).mark_bar().encode(\n",
    "    alt.X(\"X1 transaction date\", bin=alt.Bin(maxbins=20)),\n",
    "    alt.Y('count()'),\n",
    ").properties(\n",
    "    title='Histogram of X1 transaction date',\n",
    "    width=300,\n",
    "    height=200\n",
    ")\n",
    "\n",
    "histogram_x1.save('screenshots/histogram_x1.html')"
   ]
  },
  {
   "cell_type": "code",
   "execution_count": null,
   "metadata": {},
   "outputs": [],
   "source": [
    "histogram_x2 = alt.Chart(housing).mark_bar().encode(\n",
    "    alt.X(\"X2 house age\", bin=alt.Bin(maxbins=20)),\n",
    "    alt.Y('count()'),\n",
    ").properties(\n",
    "    title='Histogram of X2 house age',\n",
    "    width=300,\n",
    "    height=200\n",
    ")\n",
    "histogram_x2.save('screenshots/histogram_x2.html')"
   ]
  },
  {
   "cell_type": "code",
   "execution_count": null,
   "metadata": {},
   "outputs": [],
   "source": [
    "histogram_x3 = alt.Chart(housing).mark_bar().encode(\n",
    "    alt.X(\"X3 distance to the nearest MRT station\", bin=alt.Bin(maxbins=20)),\n",
    "    alt.Y('count()'),\n",
    ").properties(\n",
    "    title='Histogram of X3 distance to the nearest MRT station',\n",
    "    width=300,\n",
    "    height=200\n",
    ")\n",
    "\n",
    "histogram_x3.save('screenshots/histogram_x3.html')"
   ]
  },
  {
   "cell_type": "code",
   "execution_count": null,
   "metadata": {},
   "outputs": [],
   "source": [
    "histogram_x4 = alt.Chart(housing).mark_bar().encode(\n",
    "    alt.X(\"X4 number of convenience stores\", bin=alt.Bin(maxbins=20)),\n",
    "    alt.Y('count()'),\n",
    ").properties(\n",
    "    title='Histogram of X4 number of convenience stores',\n",
    "    width=300,\n",
    "    height=200\n",
    ")\n",
    "histogram_x4.save('screenshots/histogram_x4.html')"
   ]
  },
  {
   "cell_type": "code",
   "execution_count": null,
   "metadata": {},
   "outputs": [],
   "source": [
    "histogram_x5 = alt.Chart(housing).mark_bar().encode(\n",
    "    alt.X(\"X5 latitude\", bin=alt.Bin(maxbins=20)),\n",
    "    alt.Y('count()'),\n",
    ").properties(\n",
    "    title='Histogram of X5 latitude',\n",
    "    width=300,\n",
    "    height=200\n",
    ")\n",
    "histogram_x5.save('screenshots/histogram_x5.html')"
   ]
  },
  {
   "cell_type": "code",
   "execution_count": null,
   "metadata": {},
   "outputs": [],
   "source": [
    "histogram_x6 = alt.Chart(housing).mark_bar().encode(\n",
    "    alt.X(\"X6 longitude\", bin=alt.Bin(maxbins=20)),\n",
    "    alt.Y('count()'),\n",
    ").properties(\n",
    "    title='Histogram of X6 longitude',\n",
    "    width=300,\n",
    "    height=200\n",
    ")\n",
    "\n",
    "histogram_x6.save('screenshots/histogram_x6.html')"
   ]
  },
  {
   "cell_type": "code",
   "execution_count": null,
   "metadata": {},
   "outputs": [],
   "source": [
    "histogram_y = alt.Chart(housing).mark_bar().encode(\n",
    "    alt.X(\"Y house price of unit area\", bin=alt.Bin(maxbins=20)),\n",
    "    alt.Y('count()'),\n",
    ").properties(\n",
    "    title='Histogram of Y house price of unit area',\n",
    "    width=300,\n",
    "    height=200\n",
    ")\n",
    "histogram_y.save('screenshots/histogram_y.html')"
   ]
  },
  {
   "cell_type": "code",
   "execution_count": 44,
   "metadata": {},
   "outputs": [
    {
     "data": {
      "text/html": [
       "\n",
       "<style>\n",
       "  #altair-viz-3f9066e3b2be423e8202ac7a36ccd86c.vega-embed {\n",
       "    width: 100%;\n",
       "    display: flex;\n",
       "  }\n",
       "\n",
       "  #altair-viz-3f9066e3b2be423e8202ac7a36ccd86c.vega-embed details,\n",
       "  #altair-viz-3f9066e3b2be423e8202ac7a36ccd86c.vega-embed details summary {\n",
       "    position: relative;\n",
       "  }\n",
       "</style>\n",
       "<div id=\"altair-viz-3f9066e3b2be423e8202ac7a36ccd86c\"></div>\n",
       "<script type=\"text/javascript\">\n",
       "  var VEGA_DEBUG = (typeof VEGA_DEBUG == \"undefined\") ? {} : VEGA_DEBUG;\n",
       "  (function(spec, embedOpt){\n",
       "    let outputDiv = document.currentScript.previousElementSibling;\n",
       "    if (outputDiv.id !== \"altair-viz-3f9066e3b2be423e8202ac7a36ccd86c\") {\n",
       "      outputDiv = document.getElementById(\"altair-viz-3f9066e3b2be423e8202ac7a36ccd86c\");\n",
       "    }\n",
       "    const paths = {\n",
       "      \"vega\": \"https://cdn.jsdelivr.net/npm/vega@5?noext\",\n",
       "      \"vega-lib\": \"https://cdn.jsdelivr.net/npm/vega-lib?noext\",\n",
       "      \"vega-lite\": \"https://cdn.jsdelivr.net/npm/vega-lite@5.16.3?noext\",\n",
       "      \"vega-embed\": \"https://cdn.jsdelivr.net/npm/vega-embed@6?noext\",\n",
       "    };\n",
       "\n",
       "    function maybeLoadScript(lib, version) {\n",
       "      var key = `${lib.replace(\"-\", \"\")}_version`;\n",
       "      return (VEGA_DEBUG[key] == version) ?\n",
       "        Promise.resolve(paths[lib]) :\n",
       "        new Promise(function(resolve, reject) {\n",
       "          var s = document.createElement('script');\n",
       "          document.getElementsByTagName(\"head\")[0].appendChild(s);\n",
       "          s.async = true;\n",
       "          s.onload = () => {\n",
       "            VEGA_DEBUG[key] = version;\n",
       "            return resolve(paths[lib]);\n",
       "          };\n",
       "          s.onerror = () => reject(`Error loading script: ${paths[lib]}`);\n",
       "          s.src = paths[lib];\n",
       "        });\n",
       "    }\n",
       "\n",
       "    function showError(err) {\n",
       "      outputDiv.innerHTML = `<div class=\"error\" style=\"color:red;\">${err}</div>`;\n",
       "      throw err;\n",
       "    }\n",
       "\n",
       "    function displayChart(vegaEmbed) {\n",
       "      vegaEmbed(outputDiv, spec, embedOpt)\n",
       "        .catch(err => showError(`Javascript Error: ${err.message}<br>This usually means there's a typo in your chart specification. See the javascript console for the full traceback.`));\n",
       "    }\n",
       "\n",
       "    if(typeof define === \"function\" && define.amd) {\n",
       "      requirejs.config({paths});\n",
       "      require([\"vega-embed\"], displayChart, err => showError(`Error loading script: ${err.message}`));\n",
       "    } else {\n",
       "      maybeLoadScript(\"vega\", \"5\")\n",
       "        .then(() => maybeLoadScript(\"vega-lite\", \"5.16.3\"))\n",
       "        .then(() => maybeLoadScript(\"vega-embed\", \"6\"))\n",
       "        .catch(showError)\n",
       "        .then(() => displayChart(vegaEmbed));\n",
       "    }\n",
       "  })({\"config\": {\"view\": {\"continuousWidth\": 300, \"continuousHeight\": 300}}, \"data\": {\"name\": \"data-b7be909baa853e106f4173338fa76399\"}, \"mark\": {\"type\": \"rect\"}, \"encoding\": {\"color\": {\"field\": \"correlation\", \"scale\": {\"domain\": [-1, 1], \"scheme\": \"redblue\"}, \"title\": \"Correlation\", \"type\": \"quantitative\"}, \"tooltip\": [{\"field\": \"variable1\", \"type\": \"nominal\"}, {\"field\": \"variable2\", \"type\": \"nominal\"}, {\"field\": \"correlation\", \"type\": \"quantitative\"}], \"x\": {\"field\": \"variable1\", \"type\": \"nominal\"}, \"y\": {\"field\": \"variable2\", \"type\": \"nominal\"}}, \"height\": 250, \"title\": \"Correlation Heatmap\", \"width\": 300, \"$schema\": \"https://vega.github.io/schema/vega-lite/v5.16.3.json\", \"datasets\": {\"data-b7be909baa853e106f4173338fa76399\": [{\"variable1\": \"X1 transaction date\", \"variable2\": \"X1 transaction date\", \"correlation\": 1.0}, {\"variable1\": \"X1 transaction date\", \"variable2\": \"X2 house age\", \"correlation\": 0.01754234116694396}, {\"variable1\": \"X1 transaction date\", \"variable2\": \"X3 distance to the nearest MRT station\", \"correlation\": 0.060880094732976606}, {\"variable1\": \"X1 transaction date\", \"variable2\": \"X4 number of convenience stores\", \"correlation\": 0.009544199053407273}, {\"variable1\": \"X1 transaction date\", \"variable2\": \"X5 latitude\", \"correlation\": 0.03501630526573306}, {\"variable1\": \"X1 transaction date\", \"variable2\": \"X6 longitude\", \"correlation\": -0.04106507790317332}, {\"variable1\": \"X1 transaction date\", \"variable2\": \"Y house price of unit area\", \"correlation\": 0.08752927169732971}, {\"variable1\": \"X2 house age\", \"variable2\": \"X1 transaction date\", \"correlation\": 0.01754234116694396}, {\"variable1\": \"X2 house age\", \"variable2\": \"X2 house age\", \"correlation\": 1.0}, {\"variable1\": \"X2 house age\", \"variable2\": \"X3 distance to the nearest MRT station\", \"correlation\": 0.025622047362740975}, {\"variable1\": \"X2 house age\", \"variable2\": \"X4 number of convenience stores\", \"correlation\": 0.04959251292396381}, {\"variable1\": \"X2 house age\", \"variable2\": \"X5 latitude\", \"correlation\": 0.054419901960111754}, {\"variable1\": \"X2 house age\", \"variable2\": \"X6 longitude\", \"correlation\": -0.048520053385389686}, {\"variable1\": \"X2 house age\", \"variable2\": \"Y house price of unit area\", \"correlation\": -0.21056704627721676}, {\"variable1\": \"X3 distance to the nearest MRT station\", \"variable2\": \"X1 transaction date\", \"correlation\": 0.060880094732976606}, {\"variable1\": \"X3 distance to the nearest MRT station\", \"variable2\": \"X2 house age\", \"correlation\": 0.025622047362740975}, {\"variable1\": \"X3 distance to the nearest MRT station\", \"variable2\": \"X3 distance to the nearest MRT station\", \"correlation\": 1.0}, {\"variable1\": \"X3 distance to the nearest MRT station\", \"variable2\": \"X4 number of convenience stores\", \"correlation\": -0.6025191447226251}, {\"variable1\": \"X3 distance to the nearest MRT station\", \"variable2\": \"X5 latitude\", \"correlation\": -0.5910665729874878}, {\"variable1\": \"X3 distance to the nearest MRT station\", \"variable2\": \"X6 longitude\", \"correlation\": -0.8063167695693654}, {\"variable1\": \"X3 distance to the nearest MRT station\", \"variable2\": \"Y house price of unit area\", \"correlation\": -0.6736128553689182}, {\"variable1\": \"X4 number of convenience stores\", \"variable2\": \"X1 transaction date\", \"correlation\": 0.009544199053407273}, {\"variable1\": \"X4 number of convenience stores\", \"variable2\": \"X2 house age\", \"correlation\": 0.04959251292396381}, {\"variable1\": \"X4 number of convenience stores\", \"variable2\": \"X3 distance to the nearest MRT station\", \"correlation\": -0.6025191447226251}, {\"variable1\": \"X4 number of convenience stores\", \"variable2\": \"X4 number of convenience stores\", \"correlation\": 1.0}, {\"variable1\": \"X4 number of convenience stores\", \"variable2\": \"X5 latitude\", \"correlation\": 0.4441433056524694}, {\"variable1\": \"X4 number of convenience stores\", \"variable2\": \"X6 longitude\", \"correlation\": 0.4490990073533303}, {\"variable1\": \"X4 number of convenience stores\", \"variable2\": \"Y house price of unit area\", \"correlation\": 0.5710049111111479}, {\"variable1\": \"X5 latitude\", \"variable2\": \"X1 transaction date\", \"correlation\": 0.03501630526573306}, {\"variable1\": \"X5 latitude\", \"variable2\": \"X2 house age\", \"correlation\": 0.054419901960111754}, {\"variable1\": \"X5 latitude\", \"variable2\": \"X3 distance to the nearest MRT station\", \"correlation\": -0.5910665729874878}, {\"variable1\": \"X5 latitude\", \"variable2\": \"X4 number of convenience stores\", \"correlation\": 0.4441433056524694}, {\"variable1\": \"X5 latitude\", \"variable2\": \"X5 latitude\", \"correlation\": 1.0}, {\"variable1\": \"X5 latitude\", \"variable2\": \"X6 longitude\", \"correlation\": 0.4129239447594798}, {\"variable1\": \"X5 latitude\", \"variable2\": \"Y house price of unit area\", \"correlation\": 0.5463066525036089}, {\"variable1\": \"X6 longitude\", \"variable2\": \"X1 transaction date\", \"correlation\": -0.04106507790317332}, {\"variable1\": \"X6 longitude\", \"variable2\": \"X2 house age\", \"correlation\": -0.048520053385389686}, {\"variable1\": \"X6 longitude\", \"variable2\": \"X3 distance to the nearest MRT station\", \"correlation\": -0.8063167695693654}, {\"variable1\": \"X6 longitude\", \"variable2\": \"X4 number of convenience stores\", \"correlation\": 0.4490990073533303}, {\"variable1\": \"X6 longitude\", \"variable2\": \"X5 latitude\", \"correlation\": 0.4129239447594798}, {\"variable1\": \"X6 longitude\", \"variable2\": \"X6 longitude\", \"correlation\": 1.0}, {\"variable1\": \"X6 longitude\", \"variable2\": \"Y house price of unit area\", \"correlation\": 0.5232865070288262}, {\"variable1\": \"Y house price of unit area\", \"variable2\": \"X1 transaction date\", \"correlation\": 0.08752927169732971}, {\"variable1\": \"Y house price of unit area\", \"variable2\": \"X2 house age\", \"correlation\": -0.21056704627721676}, {\"variable1\": \"Y house price of unit area\", \"variable2\": \"X3 distance to the nearest MRT station\", \"correlation\": -0.6736128553689182}, {\"variable1\": \"Y house price of unit area\", \"variable2\": \"X4 number of convenience stores\", \"correlation\": 0.5710049111111479}, {\"variable1\": \"Y house price of unit area\", \"variable2\": \"X5 latitude\", \"correlation\": 0.5463066525036089}, {\"variable1\": \"Y house price of unit area\", \"variable2\": \"X6 longitude\", \"correlation\": 0.5232865070288262}, {\"variable1\": \"Y house price of unit area\", \"variable2\": \"Y house price of unit area\", \"correlation\": 1.0}]}}, {\"mode\": \"vega-lite\"});\n",
       "</script>"
      ],
      "text/plain": [
       "alt.Chart(...)"
      ]
     },
     "execution_count": 44,
     "metadata": {},
     "output_type": "execute_result"
    }
   ],
   "source": [
    "# Calculate correlation matrix\n",
    "correlation_matrix = housing.corr()\n",
    "\n",
    "# Reshape the correlation matrix for Altair\n",
    "correlation_data = correlation_matrix.stack().reset_index(name='correlation').rename(columns={'level_0': 'variable1', 'level_1': 'variable2'})\n",
    "\n",
    "# Create a heatmap\n",
    "heatmap = alt.Chart(correlation_data).mark_rect().encode(\n",
    "    x='variable1:N',\n",
    "    y='variable2:N',\n",
    "    color=alt.Color('correlation:Q', scale=alt.Scale(scheme='redblue', domain=[-1, 1]), title='Correlation'),\n",
    "    tooltip=['variable1:N', 'variable2:N', 'correlation:Q']\n",
    ").properties(\n",
    "    title='Correlation Heatmap',\n",
    "    width=300,\n",
    "    height=250\n",
    ")\n",
    "\n",
    "heatmap"
   ]
  },
  {
   "cell_type": "code",
   "execution_count": null,
   "metadata": {},
   "outputs": [],
   "source": [
    "# # X3 feature and target\n",
    "# X3 = housing[['X3 distance to the nearest MRT station']]\n",
    "# Y = housing['Y house price of unit area']\n",
    "\n",
    "# # StandardScaler\n",
    "# scaler = StandardScaler()\n",
    "# X_scaled = scaler.fit_transform(X3)\n",
    "\n",
    "# # scaled feature and the target df\n",
    "# df_scaled = pd.DataFrame({'X3_scaled': X_scaled.flatten(), 'Y': Y})\n",
    "\n",
    "# # debugger\n",
    "# X_scaled"
   ]
  },
  {
   "cell_type": "code",
   "execution_count": null,
   "metadata": {},
   "outputs": [],
   "source": [
    "# Plot the relationship between the scaled feature and the target\n",
    "# plt.figure(figsize=(10, 6))\n",
    "# sns.scatterplot(x='X3_scaled',y ='Y', data=df_scaled, alpha=0.7)\n",
    "# plt.title('Relationship between Scaled X3 and House Price')\n",
    "# plt.xlabel('X3 distance to the nearest MRT station (Scaled)')\n",
    "# plt.ylabel('Y house price of unit area')\n",
    "# plt.show()"
   ]
  },
  {
   "cell_type": "code",
   "execution_count": 45,
   "metadata": {},
   "outputs": [
    {
     "data": {
      "text/plain": [
       "358    45.1\n",
       "350    42.3\n",
       "373    52.2\n",
       "399    37.3\n",
       "369    22.8\n",
       "Name: Y house price of unit area, dtype: float64"
      ]
     },
     "execution_count": 45,
     "metadata": {},
     "output_type": "execute_result"
    }
   ],
   "source": [
    "# Drop unnecessary features\n",
    "df_model = housing.loc[:, ['X2 house age', 'X3 distance to the nearest MRT station', 'X4 number of convenience stores', 'Y house price of unit area']].copy()\n",
    "\n",
    "\n",
    "# Scale X3 using RobustScaler\n",
    "scaler = RobustScaler()\n",
    "df_model.loc[:, 'X3_scaled'] = scaler.fit_transform(df_model.loc[:, ['X3 distance to the nearest MRT station']])\n",
    "\n",
    "\n",
    "# Split the dataset\n",
    "X = df_model[['X2 house age', 'X3_scaled', 'X4 number of convenience stores']]\n",
    "y = df_model['Y house price of unit area']\n",
    "X_train, X_test, y_train, y_test = train_test_split(X, y, test_size=0.2, random_state=42)\n",
    "\n",
    "y_test.head()"
   ]
  },
  {
   "cell_type": "code",
   "execution_count": 46,
   "metadata": {},
   "outputs": [
    {
     "data": {
      "text/html": [
       "<style>#sk-container-id-1 {color: black;}#sk-container-id-1 pre{padding: 0;}#sk-container-id-1 div.sk-toggleable {background-color: white;}#sk-container-id-1 label.sk-toggleable__label {cursor: pointer;display: block;width: 100%;margin-bottom: 0;padding: 0.3em;box-sizing: border-box;text-align: center;}#sk-container-id-1 label.sk-toggleable__label-arrow:before {content: \"▸\";float: left;margin-right: 0.25em;color: #696969;}#sk-container-id-1 label.sk-toggleable__label-arrow:hover:before {color: black;}#sk-container-id-1 div.sk-estimator:hover label.sk-toggleable__label-arrow:before {color: black;}#sk-container-id-1 div.sk-toggleable__content {max-height: 0;max-width: 0;overflow: hidden;text-align: left;background-color: #f0f8ff;}#sk-container-id-1 div.sk-toggleable__content pre {margin: 0.2em;color: black;border-radius: 0.25em;background-color: #f0f8ff;}#sk-container-id-1 input.sk-toggleable__control:checked~div.sk-toggleable__content {max-height: 200px;max-width: 100%;overflow: auto;}#sk-container-id-1 input.sk-toggleable__control:checked~label.sk-toggleable__label-arrow:before {content: \"▾\";}#sk-container-id-1 div.sk-estimator input.sk-toggleable__control:checked~label.sk-toggleable__label {background-color: #d4ebff;}#sk-container-id-1 div.sk-label input.sk-toggleable__control:checked~label.sk-toggleable__label {background-color: #d4ebff;}#sk-container-id-1 input.sk-hidden--visually {border: 0;clip: rect(1px 1px 1px 1px);clip: rect(1px, 1px, 1px, 1px);height: 1px;margin: -1px;overflow: hidden;padding: 0;position: absolute;width: 1px;}#sk-container-id-1 div.sk-estimator {font-family: monospace;background-color: #f0f8ff;border: 1px dotted black;border-radius: 0.25em;box-sizing: border-box;margin-bottom: 0.5em;}#sk-container-id-1 div.sk-estimator:hover {background-color: #d4ebff;}#sk-container-id-1 div.sk-parallel-item::after {content: \"\";width: 100%;border-bottom: 1px solid gray;flex-grow: 1;}#sk-container-id-1 div.sk-label:hover label.sk-toggleable__label {background-color: #d4ebff;}#sk-container-id-1 div.sk-serial::before {content: \"\";position: absolute;border-left: 1px solid gray;box-sizing: border-box;top: 0;bottom: 0;left: 50%;z-index: 0;}#sk-container-id-1 div.sk-serial {display: flex;flex-direction: column;align-items: center;background-color: white;padding-right: 0.2em;padding-left: 0.2em;position: relative;}#sk-container-id-1 div.sk-item {position: relative;z-index: 1;}#sk-container-id-1 div.sk-parallel {display: flex;align-items: stretch;justify-content: center;background-color: white;position: relative;}#sk-container-id-1 div.sk-item::before, #sk-container-id-1 div.sk-parallel-item::before {content: \"\";position: absolute;border-left: 1px solid gray;box-sizing: border-box;top: 0;bottom: 0;left: 50%;z-index: -1;}#sk-container-id-1 div.sk-parallel-item {display: flex;flex-direction: column;z-index: 1;position: relative;background-color: white;}#sk-container-id-1 div.sk-parallel-item:first-child::after {align-self: flex-end;width: 50%;}#sk-container-id-1 div.sk-parallel-item:last-child::after {align-self: flex-start;width: 50%;}#sk-container-id-1 div.sk-parallel-item:only-child::after {width: 0;}#sk-container-id-1 div.sk-dashed-wrapped {border: 1px dashed gray;margin: 0 0.4em 0.5em 0.4em;box-sizing: border-box;padding-bottom: 0.4em;background-color: white;}#sk-container-id-1 div.sk-label label {font-family: monospace;font-weight: bold;display: inline-block;line-height: 1.2em;}#sk-container-id-1 div.sk-label-container {text-align: center;}#sk-container-id-1 div.sk-container {/* jupyter's `normalize.less` sets `[hidden] { display: none; }` but bootstrap.min.css set `[hidden] { display: none !important; }` so we also need the `!important` here to be able to override the default hidden behavior on the sphinx rendered scikit-learn.org. See: https://github.com/scikit-learn/scikit-learn/issues/21755 */display: inline-block !important;position: relative;}#sk-container-id-1 div.sk-text-repr-fallback {display: none;}</style><div id=\"sk-container-id-1\" class=\"sk-top-container\"><div class=\"sk-text-repr-fallback\"><pre>LinearRegression()</pre><b>In a Jupyter environment, please rerun this cell to show the HTML representation or trust the notebook. <br />On GitHub, the HTML representation is unable to render, please try loading this page with nbviewer.org.</b></div><div class=\"sk-container\" hidden><div class=\"sk-item\"><div class=\"sk-estimator sk-toggleable\"><input class=\"sk-toggleable__control sk-hidden--visually\" id=\"sk-estimator-id-1\" type=\"checkbox\" checked><label for=\"sk-estimator-id-1\" class=\"sk-toggleable__label sk-toggleable__label-arrow\">LinearRegression</label><div class=\"sk-toggleable__content\"><pre>LinearRegression()</pre></div></div></div></div></div>"
      ],
      "text/plain": [
       "LinearRegression()"
      ]
     },
     "execution_count": 46,
     "metadata": {},
     "output_type": "execute_result"
    }
   ],
   "source": [
    "# train \n",
    "model = LinearRegression()\n",
    "\n",
    "model.fit(X_train, y_train)"
   ]
  },
  {
   "cell_type": "code",
   "execution_count": 48,
   "metadata": {},
   "outputs": [
    {
     "data": {
      "text/plain": [
       "array([49.65029483, 43.63418374, 43.25559711, 40.54504643, 30.02253185,\n",
       "       42.76115343, 44.05213889, 43.97461726, 28.96883548, 52.53812809,\n",
       "       32.01140143, 34.41627326, 34.42500748, 28.94187375, 34.10533955,\n",
       "       32.76928696, 42.76994007, 51.05718419, 31.5997044 , 46.23694741,\n",
       "        1.60852866, 32.82691283, 46.2087237 , 45.73026011, 16.94793687,\n",
       "       40.44963146, 16.92441071, 43.25559711, 38.26129413, 35.62242747,\n",
       "       11.97136777, 37.36257399, 40.39127489, 32.33166396, 44.95567886,\n",
       "       31.0769121 , 52.71901189, 17.53040182, 45.71069998, 41.24947341,\n",
       "       33.5998047 , 40.04322085, 47.25263832, 37.83946884, 43.68586483,\n",
       "       48.15307671, 46.43656126, 25.49063651, 51.73010247, 47.00674875,\n",
       "       49.65029483, 46.65904428, 39.74781606, 42.97368549, 36.85688572,\n",
       "       17.50456128, 37.56697735, 34.42301364, 29.94501022, 43.97461726,\n",
       "       33.33396251, 30.25747554, 17.50456128, 12.10015575,  4.59259481,\n",
       "       32.85275337, 33.48515031, 46.58254024, 33.10098841, 34.18284496,\n",
       "       48.00543493, 34.59097113, 51.03134365, 47.08222657, 35.6283537 ,\n",
       "       38.25934422, 36.17781365, 44.33535735, 40.36703206, 26.47356886,\n",
       "       39.85765092, 44.12966052, 34.31204768])"
      ]
     },
     "execution_count": 48,
     "metadata": {},
     "output_type": "execute_result"
    }
   ],
   "source": [
    "# predict\n",
    "y_pred = model.predict(X_test)"
   ]
  },
  {
   "cell_type": "code",
   "execution_count": 51,
   "metadata": {},
   "outputs": [
    {
     "data": {
      "text/plain": [
       "0.6489726933106555"
      ]
     },
     "execution_count": 51,
     "metadata": {},
     "output_type": "execute_result"
    }
   ],
   "source": [
    "# evaluations\n",
    "r_squared = r2_score(y_test, y_pred)\n",
    "r_squared"
   ]
  },
  {
   "cell_type": "code",
   "execution_count": 53,
   "metadata": {},
   "outputs": [
    {
     "data": {
      "text/plain": [
       "7.673868078735506"
      ]
     },
     "execution_count": 53,
     "metadata": {},
     "output_type": "execute_result"
    }
   ],
   "source": [
    "rmse = np.sqrt(mean_squared_error(y_test, y_pred))\n",
    "\n",
    "rmse "
   ]
  },
  {
   "cell_type": "code",
   "execution_count": 55,
   "metadata": {},
   "outputs": [
    {
     "data": {
      "text/html": [
       "<style>#sk-container-id-2 {color: black;}#sk-container-id-2 pre{padding: 0;}#sk-container-id-2 div.sk-toggleable {background-color: white;}#sk-container-id-2 label.sk-toggleable__label {cursor: pointer;display: block;width: 100%;margin-bottom: 0;padding: 0.3em;box-sizing: border-box;text-align: center;}#sk-container-id-2 label.sk-toggleable__label-arrow:before {content: \"▸\";float: left;margin-right: 0.25em;color: #696969;}#sk-container-id-2 label.sk-toggleable__label-arrow:hover:before {color: black;}#sk-container-id-2 div.sk-estimator:hover label.sk-toggleable__label-arrow:before {color: black;}#sk-container-id-2 div.sk-toggleable__content {max-height: 0;max-width: 0;overflow: hidden;text-align: left;background-color: #f0f8ff;}#sk-container-id-2 div.sk-toggleable__content pre {margin: 0.2em;color: black;border-radius: 0.25em;background-color: #f0f8ff;}#sk-container-id-2 input.sk-toggleable__control:checked~div.sk-toggleable__content {max-height: 200px;max-width: 100%;overflow: auto;}#sk-container-id-2 input.sk-toggleable__control:checked~label.sk-toggleable__label-arrow:before {content: \"▾\";}#sk-container-id-2 div.sk-estimator input.sk-toggleable__control:checked~label.sk-toggleable__label {background-color: #d4ebff;}#sk-container-id-2 div.sk-label input.sk-toggleable__control:checked~label.sk-toggleable__label {background-color: #d4ebff;}#sk-container-id-2 input.sk-hidden--visually {border: 0;clip: rect(1px 1px 1px 1px);clip: rect(1px, 1px, 1px, 1px);height: 1px;margin: -1px;overflow: hidden;padding: 0;position: absolute;width: 1px;}#sk-container-id-2 div.sk-estimator {font-family: monospace;background-color: #f0f8ff;border: 1px dotted black;border-radius: 0.25em;box-sizing: border-box;margin-bottom: 0.5em;}#sk-container-id-2 div.sk-estimator:hover {background-color: #d4ebff;}#sk-container-id-2 div.sk-parallel-item::after {content: \"\";width: 100%;border-bottom: 1px solid gray;flex-grow: 1;}#sk-container-id-2 div.sk-label:hover label.sk-toggleable__label {background-color: #d4ebff;}#sk-container-id-2 div.sk-serial::before {content: \"\";position: absolute;border-left: 1px solid gray;box-sizing: border-box;top: 0;bottom: 0;left: 50%;z-index: 0;}#sk-container-id-2 div.sk-serial {display: flex;flex-direction: column;align-items: center;background-color: white;padding-right: 0.2em;padding-left: 0.2em;position: relative;}#sk-container-id-2 div.sk-item {position: relative;z-index: 1;}#sk-container-id-2 div.sk-parallel {display: flex;align-items: stretch;justify-content: center;background-color: white;position: relative;}#sk-container-id-2 div.sk-item::before, #sk-container-id-2 div.sk-parallel-item::before {content: \"\";position: absolute;border-left: 1px solid gray;box-sizing: border-box;top: 0;bottom: 0;left: 50%;z-index: -1;}#sk-container-id-2 div.sk-parallel-item {display: flex;flex-direction: column;z-index: 1;position: relative;background-color: white;}#sk-container-id-2 div.sk-parallel-item:first-child::after {align-self: flex-end;width: 50%;}#sk-container-id-2 div.sk-parallel-item:last-child::after {align-self: flex-start;width: 50%;}#sk-container-id-2 div.sk-parallel-item:only-child::after {width: 0;}#sk-container-id-2 div.sk-dashed-wrapped {border: 1px dashed gray;margin: 0 0.4em 0.5em 0.4em;box-sizing: border-box;padding-bottom: 0.4em;background-color: white;}#sk-container-id-2 div.sk-label label {font-family: monospace;font-weight: bold;display: inline-block;line-height: 1.2em;}#sk-container-id-2 div.sk-label-container {text-align: center;}#sk-container-id-2 div.sk-container {/* jupyter's `normalize.less` sets `[hidden] { display: none; }` but bootstrap.min.css set `[hidden] { display: none !important; }` so we also need the `!important` here to be able to override the default hidden behavior on the sphinx rendered scikit-learn.org. See: https://github.com/scikit-learn/scikit-learn/issues/21755 */display: inline-block !important;position: relative;}#sk-container-id-2 div.sk-text-repr-fallback {display: none;}</style><div id=\"sk-container-id-2\" class=\"sk-top-container\"><div class=\"sk-text-repr-fallback\"><pre>KNeighborsRegressor()</pre><b>In a Jupyter environment, please rerun this cell to show the HTML representation or trust the notebook. <br />On GitHub, the HTML representation is unable to render, please try loading this page with nbviewer.org.</b></div><div class=\"sk-container\" hidden><div class=\"sk-item\"><div class=\"sk-estimator sk-toggleable\"><input class=\"sk-toggleable__control sk-hidden--visually\" id=\"sk-estimator-id-2\" type=\"checkbox\" checked><label for=\"sk-estimator-id-2\" class=\"sk-toggleable__label sk-toggleable__label-arrow\">KNeighborsRegressor</label><div class=\"sk-toggleable__content\"><pre>KNeighborsRegressor()</pre></div></div></div></div></div>"
      ],
      "text/plain": [
       "KNeighborsRegressor()"
      ]
     },
     "execution_count": 55,
     "metadata": {},
     "output_type": "execute_result"
    }
   ],
   "source": [
    "# KNN regression model\n",
    "knn_model = KNeighborsRegressor(n_neighbors=5)  \n",
    "knn_model.fit(X_train, y_train)"
   ]
  },
  {
   "cell_type": "code",
   "execution_count": 57,
   "metadata": {},
   "outputs": [
    {
     "data": {
      "text/plain": [
       "array([50.64, 43.64, 46.88, 30.98, 25.68, 42.84, 48.6 , 50.38, 16.92,\n",
       "       60.36, 32.94, 30.68, 29.4 , 16.92, 41.56, 23.78, 44.78, 53.02,\n",
       "       35.38, 35.82, 19.34, 24.84, 52.78, 43.14, 18.92, 30.98, 20.58,\n",
       "       46.88, 47.6 , 40.26, 17.22, 28.82, 40.56, 34.88, 47.36, 35.98,\n",
       "       54.46, 18.92, 42.96, 48.08, 40.82, 32.38, 42.2 , 23.9 , 39.58,\n",
       "       47.66, 40.22, 20.04, 48.38, 42.2 , 50.64, 52.66, 43.02, 40.26,\n",
       "       35.42, 18.92, 35.32, 34.68, 25.68, 50.38, 28.68, 38.04, 18.92,\n",
       "       14.8 , 18.2 , 24.84, 33.42, 44.32, 34.3 , 27.98, 39.92, 42.66,\n",
       "       53.02, 46.5 , 39.2 , 33.08, 32.76, 41.8 , 41.94, 29.74, 38.7 ,\n",
       "       44.92, 27.98])"
      ]
     },
     "execution_count": 57,
     "metadata": {},
     "output_type": "execute_result"
    }
   ],
   "source": [
    "# predict\n",
    "y_knn_pred = knn_model.predict(X_test)\n",
    "\n",
    "y_knn_pred"
   ]
  },
  {
   "cell_type": "code",
   "execution_count": 58,
   "metadata": {},
   "outputs": [
    {
     "name": "stdout",
     "output_type": "stream",
     "text": [
      "R-squared Score (KNN): 0.6489726933106555\n",
      "Root Mean Squared Error (RMSE) (KNN): 7.673868078735506\n"
     ]
    }
   ],
   "source": [
    "# Evaluate the model based on R-squared score\n",
    "r_squared = r2_score(y_test, y_pred)\n",
    "print(f'R-squared Score (KNN): {r_squared}')\n",
    "\n",
    "# Evaluate the model based on Root Mean Squared Error (RMSE)\n",
    "rmse = np.sqrt(mean_squared_error(y_test, y_pred))\n",
    "print(f'Root Mean Squared Error (RMSE) (KNN): {rmse}')"
   ]
  }
 ],
 "metadata": {
  "kernelspec": {
   "display_name": "venv",
   "language": "python",
   "name": "python3"
  },
  "language_info": {
   "codemirror_mode": {
    "name": "ipython",
    "version": 3
   },
   "file_extension": ".py",
   "mimetype": "text/x-python",
   "name": "python",
   "nbconvert_exporter": "python",
   "pygments_lexer": "ipython3",
   "version": "3.12.0"
  }
 },
 "nbformat": 4,
 "nbformat_minor": 2
}
